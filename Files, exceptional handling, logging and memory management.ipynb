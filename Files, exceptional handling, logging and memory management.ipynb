{
 "cells": [
  {
   "cell_type": "markdown",
   "id": "6cc2334a-bdd1-4dc2-8287-b2050738d1a2",
   "metadata": {},
   "source": [
    "# 1. What is the difference between interpreted and compiled languages?"
   ]
  },
  {
   "cell_type": "markdown",
   "id": "cad59f25-f5bc-4450-af60-993327865d8b",
   "metadata": {},
   "source": [
    "###  Interpreted Language:"
   ]
  },
  {
   "cell_type": "markdown",
   "id": "3527be32-2447-465a-8ee5-d3a5c557fde9",
   "metadata": {},
   "source": [
    "- Code is executed line by line by an interpreter.\n",
    "\n",
    "- Errors are shown during runtime.\n",
    "\n",
    "- No separate compilation step needed before running.\n",
    "\n",
    "- Example (in context): Python behaves like this."
   ]
  },
  {
   "cell_type": "markdown",
   "id": "8f279006-a230-4821-9dc9-286dc45f3d7b",
   "metadata": {},
   "source": [
    "### Compiled Language:"
   ]
  },
  {
   "cell_type": "markdown",
   "id": "346e7b0f-9282-45cb-bcae-98ea5e076e10",
   "metadata": {},
   "source": [
    "- Code is converted to machine code by a compiler before running.\n",
    "\n",
    "- Errors are caught before execution (at compile time).\n",
    "\n",
    "- Runs faster than interpreted languages because it’s already translated."
   ]
  },
  {
   "cell_type": "markdown",
   "id": "4fa8b5bd-6ed8-46ab-9ae0-cc22b20f343f",
   "metadata": {},
   "source": [
    "### Main Difference:"
   ]
  },
  {
   "cell_type": "markdown",
   "id": "5fa29780-abf8-4c58-92cf-a0823d36c0e3",
   "metadata": {},
   "source": [
    "- Interpreted: Runs code directly, line by line.\n",
    "\n",
    "- Compiled: Converts code fully to machine language before running."
   ]
  },
  {
   "cell_type": "markdown",
   "id": "ae7f169b-a001-4229-a9b3-1ae54b3db3ea",
   "metadata": {},
   "source": [
    "# 2. What is exception handling in Python?"
   ]
  },
  {
   "cell_type": "markdown",
   "id": "d9e6962f-9c75-48cd-91c3-41efe01f2af5",
   "metadata": {},
   "source": [
    "####  Exception Handling in Python is a way to manage errors that occur during program execution, so the program doesn’t crash and can handle the situation gracefully."
   ]
  },
  {
   "cell_type": "markdown",
   "id": "075621cd-1a88-42a6-9305-0cb72b93884f",
   "metadata": {},
   "source": [
    "### Why it's needed:"
   ]
  },
  {
   "cell_type": "markdown",
   "id": "8aa042d5-5c55-43c7-af05-a38bc41b1a15",
   "metadata": {},
   "source": [
    "##### If an error (like dividing by zero or accessing a missing file) occurs, Python stops the program unless you handle it."
   ]
  },
  {
   "cell_type": "markdown",
   "id": "f589701b-eb8f-4dcf-ac1c-87e6dc9b7e89",
   "metadata": {},
   "source": [
    "### Python uses these keywords for exception handling:"
   ]
  },
  {
   "cell_type": "markdown",
   "id": "529e0214-898b-4e89-a13b-ec36d3ede33d",
   "metadata": {},
   "source": [
    "- try: Block of code to test for errors.\n",
    "\n",
    "- except: Block of code that runs if an error occurs.\n",
    "\n",
    "- else: (Optional) Runs if no error occurs in try.\n",
    "\n",
    "- finally: (Optional) Runs no matter what, whether an error occurs or not."
   ]
  },
  {
   "cell_type": "markdown",
   "id": "3fa587fb-f8c1-4690-be29-0e55639a086b",
   "metadata": {},
   "source": [
    "### Example:"
   ]
  },
  {
   "cell_type": "code",
   "execution_count": 5,
   "id": "6463833a-bd53-41ca-8d9e-6a9d1a5c1b4a",
   "metadata": {},
   "outputs": [
    {
     "name": "stdout",
     "output_type": "stream",
     "text": [
      "you cant divide by zero\n",
      "This block always run\n"
     ]
    }
   ],
   "source": [
    "try:\n",
    "    x = 10 / 0\n",
    "except:\n",
    "    print(\"you cant divide by zero\")\n",
    "finally:\n",
    "    print(\"This block always run\")"
   ]
  },
  {
   "cell_type": "markdown",
   "id": "a1e5c64a-37b7-43da-9618-59f23fe1ac9c",
   "metadata": {},
   "source": [
    "### Summary:"
   ]
  },
  {
   "cell_type": "markdown",
   "id": "e2beb05b-2da5-4a01-b727-28f280123719",
   "metadata": {},
   "source": [
    "##### Exception handling helps catch and respond to errors without stopping the whole program.\n",
    "\n"
   ]
  },
  {
   "cell_type": "markdown",
   "id": "153792ff-4f43-44dc-b163-72fa2a5fc7a6",
   "metadata": {},
   "source": [
    "# 3.What is the purpose of the finally block in exception handling?"
   ]
  },
  {
   "cell_type": "markdown",
   "id": "166149ac-1908-41c3-b64e-d6acca6e31e3",
   "metadata": {},
   "source": [
    "### Purpose:"
   ]
  },
  {
   "cell_type": "markdown",
   "id": "1f360091-12f2-4cde-87ea-b22ac5b63bf1",
   "metadata": {},
   "source": [
    "##### The finally block is used to write cleanup code that must run no matter what — whether an error occurred or not."
   ]
  },
  {
   "cell_type": "markdown",
   "id": "9c0aaeac-fec3-4e98-aae6-36baa7a9f141",
   "metadata": {},
   "source": [
    "### Key Features:"
   ]
  },
  {
   "cell_type": "markdown",
   "id": "f3144a5f-626e-4f17-a0f3-b2a22c524ed6",
   "metadata": {},
   "source": [
    "- It always executes, even if:\n",
    "\n",
    "  -  There’s no error\n",
    "\n",
    "  -  An error is handled\n",
    "\n",
    "  - There’s a return or break in the try or except\n",
    "\n",
    "- Commonly used to close files, release resources, or reset values."
   ]
  },
  {
   "cell_type": "markdown",
   "id": "a93145cf-3929-4e16-9ad7-f2cdec26b12a",
   "metadata": {},
   "source": [
    "###  Example:"
   ]
  },
  {
   "cell_type": "code",
   "execution_count": 7,
   "id": "68eee8ba-75ee-47a2-ac99-131c6e9c5f1d",
   "metadata": {},
   "outputs": [
    {
     "name": "stdout",
     "output_type": "stream",
     "text": [
      "You cant divide zero\n",
      "This block always run\n"
     ]
    }
   ],
   "source": [
    "try:\n",
    "    x = 10/0\n",
    "except:\n",
    "    print(\"You cant divide zero\")\n",
    "finally:\n",
    "    print(\"This block always run\")"
   ]
  },
  {
   "cell_type": "markdown",
   "id": "e651262c-2102-4cd0-9659-f49626bbb743",
   "metadata": {},
   "source": [
    "### Another Example (with no error):"
   ]
  },
  {
   "cell_type": "code",
   "execution_count": 8,
   "id": "9f3e14c2-a626-4f93-b7dd-fc66638643a6",
   "metadata": {},
   "outputs": [
    {
     "name": "stdout",
     "output_type": "stream",
     "text": [
      "This block always runs.\n"
     ]
    }
   ],
   "source": [
    "try:\n",
    "    x = 10 / 2\n",
    "except ZeroDivisionError:\n",
    "    print(\"Error occurred.\")\n",
    "finally:\n",
    "    print(\"This block always runs.\")"
   ]
  },
  {
   "cell_type": "markdown",
   "id": "5f841abb-7dfb-4ce6-90ef-960de3845370",
   "metadata": {},
   "source": [
    "### Summary:"
   ]
  },
  {
   "cell_type": "markdown",
   "id": "5690f2f7-e3ea-4763-88a9-21d4326bde1d",
   "metadata": {},
   "source": [
    "##### The finally block is used to write code that must always be executed, typically for cleanup tasks like closing a file or a database connection."
   ]
  },
  {
   "cell_type": "markdown",
   "id": "bb8d43af-5232-4e9d-8a1c-cb4ab978528c",
   "metadata": {},
   "source": [
    "# 4. What is logging in Python?"
   ]
  },
  {
   "cell_type": "markdown",
   "id": "c003b43d-4506-41d4-bf80-0fa4960adfe4",
   "metadata": {},
   "source": [
    "#### Logging in Python is a way to record messages from your program while it runs — for debugging, error tracking, or monitoring."
   ]
  },
  {
   "cell_type": "markdown",
   "id": "82cc9668-15ea-4c78-8a64-94edfb87141e",
   "metadata": {},
   "source": [
    "##### Instead of using print(), you use logging to keep logs of events like:"
   ]
  },
  {
   "cell_type": "markdown",
   "id": "c594d781-66bc-44b6-b6d1-1fc7e9aa3484",
   "metadata": {},
   "source": [
    "- Errors\n",
    "\n",
    "- Warnings\n",
    "\n",
    "- Info messages\n",
    "\n",
    "- Debugging data"
   ]
  },
  {
   "cell_type": "markdown",
   "id": "6ca48b52-4eaa-4abf-a182-af74ab8688cd",
   "metadata": {},
   "source": [
    "### Why use logging instead of print?"
   ]
  },
  {
   "cell_type": "markdown",
   "id": "d1a619a6-7588-4b1c-a175-dff3984fb8f9",
   "metadata": {},
   "source": [
    "- You can control what gets logged (error, warning, info, etc.).\n",
    "\n",
    "- You can save logs to a file.\n",
    "\n",
    "- You can change log formats (timestamp, level, message, etc.).\n",
    "\n",
    "- Helps in real projects and debugging large applications."
   ]
  },
  {
   "cell_type": "markdown",
   "id": "86487c3c-1028-4e52-82e2-fd1e9e8729c6",
   "metadata": {},
   "source": [
    "### Basic Example:"
   ]
  },
  {
   "cell_type": "code",
   "execution_count": 9,
   "id": "1e849ce2-2f05-42f6-97bb-56e0bd47d1df",
   "metadata": {},
   "outputs": [
    {
     "name": "stderr",
     "output_type": "stream",
     "text": [
      "INFO:root:This is an info message\n"
     ]
    }
   ],
   "source": [
    "import logging\n",
    "logging.basicConfig(level=logging.INFO)\n",
    "logging.info(\"This is an info message\")"
   ]
  },
  {
   "cell_type": "markdown",
   "id": "cfddb66f-efac-4058-b478-b7e7891deb13",
   "metadata": {},
   "source": [
    "### Logging Levels (from lowest to highest):"
   ]
  },
  {
   "cell_type": "code",
   "execution_count": null,
   "id": "fdd5824c-c6d8-4d7d-8cd2-17082afa13b3",
   "metadata": {},
   "outputs": [],
   "source": [
    "'''- Level\t        Use for\n",
    "  - DEBUG\t    Detailed info, usually for debugging\n",
    "  - INFO\t    General information\n",
    "  - WARNING\t    Something unexpected, but not an error\n",
    "  - ERROR\t    An error occurred\n",
    "  - CRITICAL\tVery serious error, program may crash\n",
    "'''"
   ]
  },
  {
   "cell_type": "markdown",
   "id": "01459d7d-6174-495a-8d84-6fe1f081c1c6",
   "metadata": {},
   "source": [
    "### Example with all levels:"
   ]
  },
  {
   "cell_type": "code",
   "execution_count": 12,
   "id": "a724a0e2-9d01-4662-b4f1-9282ee2a3af8",
   "metadata": {},
   "outputs": [
    {
     "name": "stderr",
     "output_type": "stream",
     "text": [
      "INFO:root:Just FYI\n",
      "WARNING:root:This is a warning\n",
      "ERROR:root:An erro happened\n",
      "CRITICAL:root:critical issue\n"
     ]
    }
   ],
   "source": [
    "import logging\n",
    "\n",
    "logging.basicConfig(level=logging.DEBUG)\n",
    "\n",
    "logging.debug(\"Debugging details\")\n",
    "logging.info(\"Just FYI\")\n",
    "logging.warning(\"This is a warning\")\n",
    "logging.error(\"An erro happened\")\n",
    "logging.critical(\"critical issue\")"
   ]
  },
  {
   "cell_type": "markdown",
   "id": "af342b9d-6bc9-4272-be76-8b46d972dd63",
   "metadata": {},
   "source": [
    "### Summary:"
   ]
  },
  {
   "cell_type": "markdown",
   "id": "cac640e5-b9e4-4f38-8cf2-5674d3f05bd1",
   "metadata": {},
   "source": [
    "##### Logging is a tool to track what's happening in your code — better than print() for real applications, debugging, and error tracing."
   ]
  },
  {
   "cell_type": "markdown",
   "id": "ad46cc9d-3d5d-47c6-83aa-fdfd114c3529",
   "metadata": {},
   "source": [
    "# 5. What is the significance of the __ del __ method in Python?"
   ]
  },
  {
   "cell_type": "markdown",
   "id": "897d7ffe-1749-420f-bf97-96db8d5e96d0",
   "metadata": {},
   "source": [
    "### Significance of __ del __ in Python:"
   ]
  },
  {
   "cell_type": "markdown",
   "id": "04330b58-ebfb-434e-8c74-3eb61b003f73",
   "metadata": {},
   "source": [
    "- The __ del __ method is significant because it allows you to define custom behavior that should happen when an object is about to be destroyed. It is also known as the destructor method."
   ]
  },
  {
   "cell_type": "markdown",
   "id": "fe2b8049-8988-401e-96b3-e34a35cc1f1f",
   "metadata": {},
   "source": [
    "### Key Significances:"
   ]
  },
  {
   "cell_type": "markdown",
   "id": "0ff0efc6-acee-45e3-8dfa-bd7c41535e44",
   "metadata": {},
   "source": [
    "### 1. Resource Cleanup"
   ]
  },
  {
   "cell_type": "markdown",
   "id": "da8b78ef-7e84-4461-b62c-08cf5a5ad685",
   "metadata": {},
   "source": [
    "- You can use __ del __ to close files, release memory, or disconnect from databases before the object is removed from memory."
   ]
  },
  {
   "cell_type": "markdown",
   "id": "bf0b54c6-964a-47a4-9eec-a818ed9666b4",
   "metadata": {},
   "source": [
    "### 2. Automatic Execution"
   ]
  },
  {
   "cell_type": "markdown",
   "id": "e6717ba2-ce19-488d-8b60-2111f6344484",
   "metadata": {},
   "source": [
    "- You don’t need to call it manually — Python automatically calls __ del __ when the object is garbage collected."
   ]
  },
  {
   "cell_type": "markdown",
   "id": "de4c746a-86c5-44ed-b341-645fcfd25ab6",
   "metadata": {},
   "source": [
    "### 3. Helps in Debugging"
   ]
  },
  {
   "cell_type": "markdown",
   "id": "bd921820-e7f8-4b58-9d16-f92cea238f8d",
   "metadata": {},
   "source": [
    "- You can track when objects are deleted by printing a message in __ del __, which is useful during debugging to check memory usage."
   ]
  },
  {
   "cell_type": "markdown",
   "id": "dd2ae9f4-3b37-4327-94c0-e74cb68c8302",
   "metadata": {},
   "source": [
    "### Important Notes on Its Use:"
   ]
  },
  {
   "cell_type": "markdown",
   "id": "659be996-e0d8-4d38-8fb8-a75ed7a0cce6",
   "metadata": {},
   "source": [
    "- The exact time when __ del __ is called is not guaranteed, especially when using complex references or circular references.\n",
    "\n",
    "- It should not be used for critical cleanup, because there's no guarantee that it will always run. For important cleanup, use context managers (with statement) instead."
   ]
  },
  {
   "cell_type": "markdown",
   "id": "c392e0b2-1396-4263-af37-8296d8f3f23b",
   "metadata": {},
   "source": [
    "### Summary Sentence:"
   ]
  },
  {
   "cell_type": "markdown",
   "id": "9a51ef3b-ec4c-4aba-ab75-1b74b2162b3d",
   "metadata": {},
   "source": [
    "- The significance of the __ del __ method in Python is that it allows objects to perform final cleanup operations automatically before they are destroyed by the garbage collector."
   ]
  },
  {
   "cell_type": "markdown",
   "id": "8f443f18-e154-4349-bf30-b97ac3c6ad32",
   "metadata": {},
   "source": [
    "# 6. What is the difference between import and from ... import in Python?"
   ]
  },
  {
   "cell_type": "markdown",
   "id": "f8b33157-7c75-45e1-9881-aa68c653f98c",
   "metadata": {},
   "source": [
    "- Python provides two main ways to include code from modules:"
   ]
  },
  {
   "cell_type": "markdown",
   "id": "6e8003ed-45b7-4dc2-aa4b-62a83f4be087",
   "metadata": {},
   "source": [
    "### 1. import module"
   ]
  },
  {
   "cell_type": "markdown",
   "id": "01564b4d-053c-465c-a233-a42ab9360bea",
   "metadata": {},
   "source": [
    "- Imports the entire module.\n",
    "\n",
    "- You access functions or variables using the module name as a prefix."
   ]
  },
  {
   "cell_type": "code",
   "execution_count": 13,
   "id": "2ef9dfaf-36cd-4d69-a123-68b039414317",
   "metadata": {},
   "outputs": [
    {
     "name": "stdout",
     "output_type": "stream",
     "text": [
      "4.0\n"
     ]
    }
   ],
   "source": [
    "import math\n",
    "print(math.sqrt(16))  "
   ]
  },
  {
   "cell_type": "markdown",
   "id": "dfabdc03-1d44-4cb3-8fa2-d42928e30a19",
   "metadata": {},
   "source": [
    "### 2. from module import item"
   ]
  },
  {
   "cell_type": "markdown",
   "id": "897c635a-128a-4ca0-a946-44eac613e994",
   "metadata": {},
   "source": [
    "- Imports only specific items (functions, classes, or variables) from the module.\n",
    "\n",
    "- You can use them directly without the module name."
   ]
  },
  {
   "cell_type": "code",
   "execution_count": 14,
   "id": "8ec2fff5-1dfc-4733-9d1f-aed1be49de1b",
   "metadata": {},
   "outputs": [
    {
     "name": "stdout",
     "output_type": "stream",
     "text": [
      "4.0\n"
     ]
    }
   ],
   "source": [
    "from math import sqrt\n",
    "print(sqrt(16))  "
   ]
  },
  {
   "cell_type": "markdown",
   "id": "cecd72d7-9010-49ca-a797-8d2b0f3c9075",
   "metadata": {},
   "source": [
    "### Main Differences:"
   ]
  },
  {
   "cell_type": "code",
   "execution_count": null,
   "id": "90c2d280-426a-4314-b1f2-8c2d6b17256f",
   "metadata": {},
   "outputs": [],
   "source": [
    "'''\n",
    "Feature\t                    import module\t                from module import item\n",
    "What it imports      \t    Whole module\t                Specific part of the module\n",
    "How to access functions\t    module.function()\t            function() (no module prefix)\n",
    "Namespace pollution\t        Less (everything under module)\tMore (items come directly into your namespace)\n",
    "'''"
   ]
  },
  {
   "cell_type": "markdown",
   "id": "849fa4dc-3c8d-470c-8984-12433d5d88a2",
   "metadata": {},
   "source": [
    "### Note:"
   ]
  },
  {
   "cell_type": "markdown",
   "id": "a29af351-c39b-4602-a597-8d6779779336",
   "metadata": {},
   "source": [
    "- Using from module import * is not recommended, as it imports everything and can conflict with other names in your code."
   ]
  },
  {
   "cell_type": "markdown",
   "id": "bee638ce-db48-4ca1-adee-2af4196454cb",
   "metadata": {},
   "source": [
    "### Summary Sentence:"
   ]
  },
  {
   "cell_type": "markdown",
   "id": "977a84c0-f247-45f2-bbd2-ec528215213c",
   "metadata": {},
   "source": [
    "- import module gives you access to the whole module with namespace control.\n",
    "\n",
    "- from module import item is shorter but brings names directly into your code, which can be risky in large projects."
   ]
  },
  {
   "cell_type": "markdown",
   "id": "32ea7c1b-12fd-4981-b5da-3f26eadbf1b1",
   "metadata": {},
   "source": [
    "# 7. How can you handle multiple exceptions in Python?"
   ]
  },
  {
   "cell_type": "markdown",
   "id": "0d574551-4c06-4226-83e3-037b4a652927",
   "metadata": {},
   "source": [
    "- In Python, you can handle multiple exceptions using:"
   ]
  },
  {
   "cell_type": "markdown",
   "id": "178e26af-5690-453a-b579-18b7ada6f6b9",
   "metadata": {},
   "source": [
    "###  1. Multiple except blocks (Recommended)"
   ]
  },
  {
   "cell_type": "markdown",
   "id": "888cbf1c-72ef-4dd7-baf5-eec4392f55ee",
   "metadata": {},
   "source": [
    "- You write a separate except block for each type of error."
   ]
  },
  {
   "cell_type": "markdown",
   "id": "84133e46-0378-4729-8379-75f2bdb9de7f",
   "metadata": {},
   "source": [
    "###  Example:"
   ]
  },
  {
   "cell_type": "code",
   "execution_count": 22,
   "id": "96cfc4c2-003e-4c8b-9e50-534863b7f2cb",
   "metadata": {},
   "outputs": [
    {
     "name": "stdin",
     "output_type": "stream",
     "text": [
      "Enter a Number 0\n"
     ]
    },
    {
     "name": "stdout",
     "output_type": "stream",
     "text": [
      "you cant divide by zero\n"
     ]
    }
   ],
   "source": [
    "try:\n",
    "    num = int(input(\"Enter a Number\"))\n",
    "    result = 10/num\n",
    "except ValueError:\n",
    "    print(\"Enter a Valid number\")\n",
    "except ZeroDivisionError:\n",
    "    print(\"you cant divide by zero\")"
   ]
  },
  {
   "cell_type": "markdown",
   "id": "5659036b-01f5-45bb-86a9-b905025cfc10",
   "metadata": {},
   "source": [
    "### 2. Single except block with multiple exceptions (Tuple form)"
   ]
  },
  {
   "cell_type": "markdown",
   "id": "7fbd7a50-891e-401e-bda8-1ee1f6e63b19",
   "metadata": {},
   "source": [
    "- Use a tuple to catch multiple exceptions with the same response."
   ]
  },
  {
   "cell_type": "code",
   "execution_count": 25,
   "id": "99459efc-869b-44d2-a935-8340020aefde",
   "metadata": {},
   "outputs": [
    {
     "name": "stdin",
     "output_type": "stream",
     "text": [
      "Enter a number:  abc\n"
     ]
    },
    {
     "name": "stdout",
     "output_type": "stream",
     "text": [
      "Invalid input or division by zero.\n"
     ]
    }
   ],
   "source": [
    "try:\n",
    "    num = int(input(\"Enter a number: \"))\n",
    "    result = 10 / num\n",
    "except (ValueError, ZeroDivisionError):\n",
    "    print(\"Invalid input or division by zero.\")\n"
   ]
  },
  {
   "cell_type": "markdown",
   "id": "22dd79c3-d62c-4a61-a781-21e4b47a9b48",
   "metadata": {},
   "source": [
    "### 3. Using else and finally with multiple exceptions"
   ]
  },
  {
   "cell_type": "markdown",
   "id": "7e5bc2d5-dc5a-4b1c-946f-78c3fa46180d",
   "metadata": {},
   "source": [
    "- You can also combine them with else and finally for cleaner control."
   ]
  },
  {
   "cell_type": "code",
   "execution_count": 28,
   "id": "81c15522-9480-461f-8940-4c8fddb22f50",
   "metadata": {},
   "outputs": [
    {
     "name": "stdin",
     "output_type": "stream",
     "text": [
      "Enter a number:  1\n"
     ]
    },
    {
     "name": "stdout",
     "output_type": "stream",
     "text": [
      "Result is: 10.0\n",
      "Finished.\n"
     ]
    }
   ],
   "source": [
    "try:\n",
    "    num = int(input(\"Enter a number: \"))\n",
    "    result = 10 / num\n",
    "except ValueError:\n",
    "    print(\"Invalid number.\")\n",
    "except ZeroDivisionError:\n",
    "    print(\"Can't divide by zero.\")\n",
    "else:\n",
    "    print(\"Result is:\", result)\n",
    "finally:\n",
    "    print(\"Finished.\")\n"
   ]
  },
  {
   "cell_type": "markdown",
   "id": "05c4945b-26ab-44f7-9efd-da6b9b70a499",
   "metadata": {},
   "source": [
    "###  Summary:"
   ]
  },
  {
   "cell_type": "markdown",
   "id": "5ef29461-aa8f-4a55-8782-c41d8ec177f7",
   "metadata": {},
   "source": [
    "You can handle multiple exceptions in Python using:\n",
    "\n",
    "- Multiple except blocks\n",
    "\n",
    "- A single except block with a tuple\n",
    "\n",
    "- Combining with else and finally"
   ]
  },
  {
   "cell_type": "markdown",
   "id": "ad388bef-7e15-44f2-bd97-6a5a27ae3ed4",
   "metadata": {},
   "source": [
    "# 8. What is the purpose of the with statement when handling files in Python?"
   ]
  },
  {
   "cell_type": "markdown",
   "id": "3726985f-9d84-4cc0-9f5c-5feb19c7caeb",
   "metadata": {},
   "source": [
    "### Purpose:"
   ]
  },
  {
   "cell_type": "markdown",
   "id": "7855ea2d-067b-4c07-9ca5-71f7e34f6bd1",
   "metadata": {},
   "source": [
    "- The with statement is used for automatic resource management. When working with files, it ensures that the file is properly opened and automatically closed, even if an error occurs during file operations."
   ]
  },
  {
   "cell_type": "markdown",
   "id": "363b3393-9f21-46d3-9dc7-6bfcafb0fa58",
   "metadata": {},
   "source": [
    "### Why use with?"
   ]
  },
  {
   "cell_type": "code",
   "execution_count": null,
   "id": "9569906b-359b-415c-a42c-64ac089b2ad9",
   "metadata": {},
   "outputs": [],
   "source": [
    "'''\n",
    "Without with\t                       With with\n",
    "You must manually close the file\t   File closes automatically\n",
    "Risk of forgetting file.close()\t       No need to call close() manually\n",
    "Code is longer and more error-prone\t   Code is shorter, cleaner, and safer\n",
    "'''"
   ]
  },
  {
   "cell_type": "markdown",
   "id": "edce2641-2354-4a78-9395-1011a55f9dfe",
   "metadata": {},
   "source": [
    "### Example without with:"
   ]
  },
  {
   "cell_type": "code",
   "execution_count": null,
   "id": "d0d5dceb-ae43-4826-8808-171d29bc1425",
   "metadata": {},
   "outputs": [],
   "source": [
    "file = open(\"data.txt\", \"r\")\n",
    "content = file.read()\n",
    "file.close()"
   ]
  },
  {
   "cell_type": "markdown",
   "id": "9ccc9d17-981a-4b59-891e-f308299e3353",
   "metadata": {},
   "source": [
    "###  Example with with:"
   ]
  },
  {
   "cell_type": "code",
   "execution_count": null,
   "id": "1d8c9ae2-96df-4d1f-918b-49547cb195fe",
   "metadata": {},
   "outputs": [],
   "source": [
    "with open(\"data.txt\", \"r\") as file:\n",
    "    content = file.read()\n",
    "\n",
    "# Even if an error happens inside the with block, Python automatically closes the file."
   ]
  },
  {
   "cell_type": "markdown",
   "id": "ae11ed0f-9676-40ef-af7b-9fba08f38032",
   "metadata": {},
   "source": [
    "### Summary Sentence:"
   ]
  },
  {
   "cell_type": "markdown",
   "id": "068e9118-7fad-4132-83ab-da2d7f5da255",
   "metadata": {},
   "source": [
    "- The with statement ensures safe and clean file handling by automatically opening and closing the file — making your code more reliable and readable."
   ]
  },
  {
   "cell_type": "markdown",
   "id": "8641f5fa-e4b0-4bd3-a09e-a809f25e0bb6",
   "metadata": {},
   "source": [
    "# 9. What is the difference between multithreading and multiprocessing?"
   ]
  },
  {
   "cell_type": "markdown",
   "id": "04fe1640-d803-450c-b345-739f13d4ea53",
   "metadata": {},
   "source": [
    "- Both multithreading and multiprocessing are used to perform multiple tasks at the same time (parallel execution), but they are different in how they use system resources."
   ]
  },
  {
   "cell_type": "markdown",
   "id": "338c69ec-2c8d-4907-8877-607597f08ef0",
   "metadata": {},
   "source": [
    "### 1. Multithreading"
   ]
  },
  {
   "cell_type": "markdown",
   "id": "84a909d0-a7d8-4419-aa6f-a51d738e043b",
   "metadata": {},
   "source": [
    "- Runs multiple threads within a single process.\n",
    "\n",
    "- Threads share the same memory space.\n",
    "\n",
    "- Best for I/O-bound tasks like file reading, API requests, user inputs."
   ]
  },
  {
   "cell_type": "markdown",
   "id": "003fd5e0-0298-4641-bf5d-db16e4ed7b2c",
   "metadata": {},
   "source": [
    "### Example:"
   ]
  },
  {
   "cell_type": "code",
   "execution_count": 30,
   "id": "9de66d9f-ddeb-49d7-a96a-53f5f6b164bf",
   "metadata": {},
   "outputs": [
    {
     "name": "stdout",
     "output_type": "stream",
     "text": [
      "Runnig Task\n"
     ]
    }
   ],
   "source": [
    "import threading\n",
    "\n",
    "def task():\n",
    "    print(\"Runnig Task\")\n",
    "\n",
    "t1 = threading.Thread(target=task)\n",
    "t1.start()"
   ]
  },
  {
   "cell_type": "markdown",
   "id": "3add6a47-3b63-4e45-84d8-0b6c8baa449c",
   "metadata": {},
   "source": [
    "### 2. Multiprocessing"
   ]
  },
  {
   "cell_type": "markdown",
   "id": "e2b41507-367f-4c4c-bd69-2f7db71e0b2c",
   "metadata": {},
   "source": [
    "- Runs multiple processes, each with its own memory space.\n",
    "\n",
    "- Best for CPU-bound tasks like calculations, data processing.\n",
    "\n",
    "- Avoids Python’s Global Interpreter Lock (GIL), so it's faster for heavy tasks."
   ]
  },
  {
   "cell_type": "markdown",
   "id": "ce560f5b-4aec-468d-bc3f-d04e14a2e9db",
   "metadata": {},
   "source": [
    "### Example:"
   ]
  },
  {
   "cell_type": "code",
   "execution_count": 38,
   "id": "269bcb18-078e-4d7c-a93b-9191d5c5f441",
   "metadata": {},
   "outputs": [],
   "source": [
    "import multiprocessing\n",
    "\n",
    "def task():\n",
    "    print(\"Running task...\")\n",
    "\n",
    "p1 = multiprocessing.Process(target=task)\n",
    "p1.start()\n",
    "p1.join()\n"
   ]
  },
  {
   "cell_type": "markdown",
   "id": "ea4fc500-cfd7-4dc8-8abd-fb6da9094608",
   "metadata": {},
   "source": [
    "### Key Differences Table:"
   ]
  },
  {
   "cell_type": "code",
   "execution_count": null,
   "id": "64e9383f-c721-4daa-885c-435ba240e700",
   "metadata": {},
   "outputs": [],
   "source": [
    "'''\n",
    "Feature             \t    Multithreading\t                                Multiprocessing\n",
    "Runs on\t                    Multiple threads (1 process)                 \tMultiple processes (separate memory)\n",
    "Memory\t                    Shared memory                                \tSeparate memory\n",
    "Best for\t                I/O-bound tasks\t                                CPU-bound tasks\n",
    "Speed for heavy tasks      \tSlower (GIL limits execution)\t                Faster (no GIL issue)\n",
    "Crashes\t                    One thread crash affects whole process          One process crash doesn't affect others\n",
    "'''"
   ]
  },
  {
   "cell_type": "markdown",
   "id": "5002fae0-e97b-4b8c-bae7-7bee70fb592d",
   "metadata": {},
   "source": [
    "### Summary:"
   ]
  },
  {
   "cell_type": "markdown",
   "id": "b8ad03fe-46a6-40c9-9b50-e516201636d4",
   "metadata": {},
   "source": [
    "- Use multithreading when your program is waiting (like downloading files).\n",
    "\n",
    "- Use multiprocessing when your program is doing heavy work (like calculations)."
   ]
  },
  {
   "cell_type": "markdown",
   "id": "99b0e258-497f-4136-b207-95d2ef289672",
   "metadata": {},
   "source": [
    "# 10. What are the advantages of using logging in a program?"
   ]
  },
  {
   "cell_type": "markdown",
   "id": "dca96542-5b61-4116-9020-cd6140414491",
   "metadata": {},
   "source": [
    "- Logging is a powerful tool in Python used to record information about your program’s execution — useful for debugging, monitoring, and auditing."
   ]
  },
  {
   "cell_type": "markdown",
   "id": "ca730d4a-3652-4a75-b38e-98db263958a3",
   "metadata": {},
   "source": [
    "### Top Advantages of Using Logging:"
   ]
  },
  {
   "cell_type": "code",
   "execution_count": null,
   "id": "9a80bcae-0edb-41aa-8feb-4a410cb09c5b",
   "metadata": {},
   "outputs": [],
   "source": [
    "'''\n",
    "Advantage                             \tDescription\n",
    " Tracks program flow\t            Helps you understand what the program is doing and when.\n",
    " Debugging aid                    \tShows detailed info about errors without stopping the program.\n",
    " Saves to a file\t                Logs can be saved to files for later review (unlike print()).\n",
    " Flexible log levels             \tYou can log different types: DEBUG, INFO, WARNING, ERROR, CRITICAL.\n",
    " Better than print()\t            print() is temporary; logging is structured, configurable, and scalable.\n",
    " Works in production\t            You can monitor real-world issues without interrupting the user.\n",
    " Customizable output\t            Add timestamps, line numbers, function names, etc., to logs.\n",
    "'''"
   ]
  },
  {
   "cell_type": "markdown",
   "id": "0ebd0e98-a682-45db-9d2e-23122bbfa429",
   "metadata": {},
   "source": [
    "### Example:"
   ]
  },
  {
   "cell_type": "code",
   "execution_count": 39,
   "id": "b87dd2f2-31b0-4c81-b94b-6ca1ded3a833",
   "metadata": {},
   "outputs": [
    {
     "name": "stderr",
     "output_type": "stream",
     "text": [
      "INFO:root:Data Processing started\n"
     ]
    }
   ],
   "source": [
    "import logging\n",
    "\n",
    "logging.basicConfig(level=logging.INFO)\n",
    "logging.info(\"Data Processing started\")"
   ]
  },
  {
   "cell_type": "markdown",
   "id": "4c939437-7ab7-4f32-98ae-7b7713ef3abd",
   "metadata": {},
   "source": [
    "### Summary Sentence:"
   ]
  },
  {
   "cell_type": "markdown",
   "id": "7a204a1c-6fb0-4fcf-9298-39566b539f61",
   "metadata": {},
   "source": [
    "- Logging provides a powerful, flexible, and permanent way to monitor and debug your code — especially important in larger or long-running programs."
   ]
  },
  {
   "cell_type": "markdown",
   "id": "ed57736e-01ad-44cf-8d30-7dd7403b6c55",
   "metadata": {},
   "source": [
    "# 11. What is memory management in Python?"
   ]
  },
  {
   "cell_type": "markdown",
   "id": "49065833-c69f-47ed-a1ef-49b04c900ca6",
   "metadata": {},
   "source": [
    "- Memory management in Python is the process of allocating, using, and freeing up memory during a program’s execution."
   ]
  },
  {
   "cell_type": "markdown",
   "id": "8de33c94-8200-4bf7-916e-38e09a2de5c5",
   "metadata": {},
   "source": [
    "### How Python Manages Memory:"
   ]
  },
  {
   "cell_type": "code",
   "execution_count": null,
   "id": "70f59709-cab9-4de8-a67f-c968d4a4d88d",
   "metadata": {},
   "outputs": [],
   "source": [
    "'''\n",
    " Component\t                        Description\n",
    " Automatic allocation            \tPython automatically assigns memory when variables are created.\n",
    " Garbage Collector                \tPython has a built-in garbage collector that removes unused objects.\n",
    " Reference counting              \tEvery object keeps track of how many references point to it.\n",
    " Private Heap\t                    All Python objects and data structures are stored in a private heap.\n",
    " Memory Pools\t                    Python internally uses memory pools to reduce allocation overhead.\n",
    "'''"
   ]
  },
  {
   "cell_type": "markdown",
   "id": "0df1f320-855d-4262-9d16-4992895a2276",
   "metadata": {},
   "source": [
    "###  Key Concepts:"
   ]
  },
  {
   "cell_type": "markdown",
   "id": "cbcc95dd-a5d7-41c0-9b8b-d07ae924b7b2",
   "metadata": {},
   "source": [
    "### 1.Reference Counting:"
   ]
  },
  {
   "cell_type": "markdown",
   "id": "02818de7-3329-4cf2-a4f0-78df712c3fe9",
   "metadata": {},
   "source": [
    "- Each object has a count of how many times it's used.\n",
    "\n",
    "- When count = 0 → memory is freed."
   ]
  },
  {
   "cell_type": "markdown",
   "id": "6a102a83-b81d-4323-b0bc-d918c77bc38f",
   "metadata": {},
   "source": [
    "### 2. Garbage Collection:"
   ]
  },
  {
   "cell_type": "markdown",
   "id": "76ad854c-cfa0-4d76-948e-05a48c15c6b6",
   "metadata": {},
   "source": [
    "- Handles circular references (when two objects refer to each other).\n",
    "\n",
    "- Runs automatically or can be triggered using:"
   ]
  },
  {
   "cell_type": "code",
   "execution_count": null,
   "id": "1a713044-fd40-4d1b-80ce-1c0a1f22814e",
   "metadata": {},
   "outputs": [],
   "source": [
    "import gc\n",
    "gc.collect()"
   ]
  },
  {
   "cell_type": "markdown",
   "id": "f28f92a5-43e4-4779-9749-f14d7cc3bb4d",
   "metadata": {},
   "source": [
    "### Example:"
   ]
  },
  {
   "cell_type": "code",
   "execution_count": 40,
   "id": "ddf6f9da-ccf9-4703-9f49-14551d8d73a2",
   "metadata": {},
   "outputs": [],
   "source": [
    "a = [1, 2, 3]\n",
    "b = a  \n",
    "del a  \n",
    "del b  # no more references — list is garbage collected\n"
   ]
  },
  {
   "cell_type": "markdown",
   "id": "7bc43283-a091-41fc-8109-8bbe2b0a196d",
   "metadata": {},
   "source": [
    "### Summary:"
   ]
  },
  {
   "cell_type": "markdown",
   "id": "8155bb60-8b22-459d-9b1f-843c9f82f051",
   "metadata": {},
   "source": [
    "- Memory management in Python is automatic, but efficient — using reference counting, garbage collection, and heap memory to keep programs optimized."
   ]
  },
  {
   "cell_type": "markdown",
   "id": "b2c67f96-d707-49da-a26e-d3e5be1e7131",
   "metadata": {},
   "source": [
    "# 12. What are the basic steps involved in exception handling in Python?"
   ]
  },
  {
   "cell_type": "markdown",
   "id": "9541a2e0-e7c6-4bac-b719-e65d695d0e8a",
   "metadata": {},
   "source": [
    "- Exception handling in Python allows you to gracefully manage errors that occur during program execution, so your program doesn't crash unexpectedly."
   ]
  },
  {
   "cell_type": "markdown",
   "id": "26c2346b-20f6-4e11-a050-ed19599da46a",
   "metadata": {},
   "source": [
    "### Basic Steps in Exception Handling:"
   ]
  },
  {
   "cell_type": "code",
   "execution_count": null,
   "id": "09734c91-2f04-4eef-8324-8e46dd84f4d6",
   "metadata": {},
   "outputs": [],
   "source": [
    "'''\n",
    "Step\tKeyword\t                Description\n",
    "1\t    try\t                    Wrap the code that might cause an error.\n",
    "2\t    except\t                Handle the error if it occurs.\n",
    "3\t    else (optional)\t        Run code if no exception occurs.\n",
    "4\t    finally (optional)\t    Run code whether an exception occurred or not.\n",
    "'''"
   ]
  },
  {
   "cell_type": "markdown",
   "id": "1c6cfd53-1acc-4999-9300-ee5427cf63cb",
   "metadata": {},
   "source": [
    "###  Example:"
   ]
  },
  {
   "cell_type": "code",
   "execution_count": 41,
   "id": "20364663-5434-496b-8729-f5cedfa4a0fc",
   "metadata": {},
   "outputs": [
    {
     "name": "stdin",
     "output_type": "stream",
     "text": [
      "Enter a number:  0\n"
     ]
    },
    {
     "name": "stdout",
     "output_type": "stream",
     "text": [
      "Cannot divide by zero!\n",
      "This block always runs.\n"
     ]
    }
   ],
   "source": [
    "try:\n",
    "    x = int(input(\"Enter a number: \"))\n",
    "    y = 10 / x\n",
    "except ZeroDivisionError:\n",
    "    print(\"Cannot divide by zero!\")\n",
    "except ValueError:\n",
    "    print(\"Invalid input! Please enter a number.\")\n",
    "else:\n",
    "    print(\"No error occurred.\")\n",
    "finally:\n",
    "    print(\"This block always runs.\")\n"
   ]
  },
  {
   "cell_type": "markdown",
   "id": "ece6c2af-026d-42ca-9bd6-f4b56c395093",
   "metadata": {},
   "source": [
    "### Summary:"
   ]
  },
  {
   "cell_type": "markdown",
   "id": "4307cb39-0538-461f-906a-a51813fb7173",
   "metadata": {},
   "source": [
    "##### `The basic steps are: `\n",
    "##### `try to run the code,`\n",
    "##### `except to catch errors,`\n",
    "##### `else for success, and`\n",
    "##### `finally for cleanup or closing tasks (like files or database connections).`"
   ]
  },
  {
   "cell_type": "markdown",
   "id": "9c6d1324-af04-41ac-88c3-89c8fb5bce06",
   "metadata": {},
   "source": [
    "# 13. Why is memory management important in Python?"
   ]
  },
  {
   "cell_type": "markdown",
   "id": "4302e263-9b50-4f2c-bd37-cb8bf48a2895",
   "metadata": {},
   "source": [
    "- Memory management is important in Python because it ensures your program uses memory efficiently, runs smoothly, and avoids crashes or slowdowns caused by memory-related issues."
   ]
  },
  {
   "cell_type": "markdown",
   "id": "ea70799b-640e-4096-b089-163dd3e27eb3",
   "metadata": {},
   "source": [
    "### Key Reasons Why Memory Management Matters:"
   ]
  },
  {
   "cell_type": "code",
   "execution_count": null,
   "id": "e128a34c-c351-4410-b3b2-9f26c15ac206",
   "metadata": {},
   "outputs": [],
   "source": [
    "'''\n",
    " Reason\t                             Explanation\n",
    " Avoid memory leaks                  Prevents unused objects from consuming memory forever.\n",
    " Improve performance                 Efficient memory use leads to faster and smoother programs.\n",
    " Stability of applications\t         Proper memory handling prevents crashes due to \"out of memory\" errors.\n",
    " Automatic but not unlimited\t     Python does it for you, but poor code can still waste memory.\n",
    " Helps in large-scale projects\t     Big applications need smart memory usage to scale and stay responsive.\n",
    "'''"
   ]
  },
  {
   "cell_type": "markdown",
   "id": "38f840ce-13e4-4030-af16-7e51bb591e1c",
   "metadata": {},
   "source": [
    "### Example:"
   ]
  },
  {
   "cell_type": "markdown",
   "id": "0eb7851b-290f-47ed-97f3-6076e3f15b03",
   "metadata": {},
   "source": [
    "- If you create many large objects and don’t delete or reuse them properly, they stay in memory — slowing down your program or even crashing it."
   ]
  },
  {
   "cell_type": "code",
   "execution_count": 42,
   "id": "634f85fc-25c7-43a6-a61f-f8589d01a961",
   "metadata": {},
   "outputs": [],
   "source": [
    "\n",
    "data = []\n",
    "for i in range(10000000):\n",
    "    data.append(i)  # Memory fills up fast\n",
    "\n",
    "del data  # Frees the memory — important step in long-running scripts\n"
   ]
  },
  {
   "cell_type": "markdown",
   "id": "ee422b06-54a9-4a8f-8ee8-3bc79939ad64",
   "metadata": {},
   "source": [
    "### Summary Sentence:"
   ]
  },
  {
   "cell_type": "markdown",
   "id": "6f6bc5ae-c5e6-420c-9889-95cf27f2d7b5",
   "metadata": {},
   "source": [
    "- Memory management in Python is important to ensure your program stays efficient, stable, and scalable, especially for large or long-running applications."
   ]
  },
  {
   "cell_type": "markdown",
   "id": "674b44cd-ed91-4406-a375-44e1714910fd",
   "metadata": {},
   "source": [
    "# 14. What is the role of try and except in exception handling?"
   ]
  },
  {
   "cell_type": "markdown",
   "id": "642a87ef-72f4-4b8f-8ff4-e20f5fc51b7d",
   "metadata": {},
   "source": [
    "- In Python, the try and except blocks are used to handle errors (exceptions) in a program so it doesn't crash when something goes wrong."
   ]
  },
  {
   "cell_type": "markdown",
   "id": "bd6e6eb9-745c-4a73-b9fc-3fa34c998dd0",
   "metadata": {},
   "source": [
    "###  Role of try Block:"
   ]
  },
  {
   "cell_type": "markdown",
   "id": "1cc278bb-0d08-469d-94da-d405df83b169",
   "metadata": {},
   "source": [
    "- The try block contains the code that might raise an exception.\n",
    "\n",
    "- Python executes this code normally, but if an error occurs, it jumps to the except block instead of stopping the program."
   ]
  },
  {
   "cell_type": "markdown",
   "id": "11628bb2-b03e-4016-a831-f8607b941d57",
   "metadata": {},
   "source": [
    "### Role of except Block:"
   ]
  },
  {
   "cell_type": "markdown",
   "id": "827107af-409d-47c3-b00a-03f494f17393",
   "metadata": {},
   "source": [
    "- The except block catches and handles the exception.\n",
    "\n",
    "- You can specify the type of error to catch specific exceptions (e.g., ZeroDivisionError, ValueError)."
   ]
  },
  {
   "cell_type": "markdown",
   "id": "8566a1fc-4f4d-4156-b8ea-51d1a8652cb5",
   "metadata": {},
   "source": [
    "### Example:"
   ]
  },
  {
   "cell_type": "code",
   "execution_count": 44,
   "id": "1e9a2011-bc64-467b-9ac5-5d49e5d299c4",
   "metadata": {},
   "outputs": [
    {
     "name": "stdin",
     "output_type": "stream",
     "text": [
      "Enter a number:  vishal\n"
     ]
    },
    {
     "name": "stdout",
     "output_type": "stream",
     "text": [
      "Invalid input! Please enter a number.\n"
     ]
    }
   ],
   "source": [
    "try:\n",
    "    num = int(input(\"Enter a number: \"))\n",
    "    result = 10 / num\n",
    "except ZeroDivisionError:\n",
    "    print(\"You can't divide by zero!\")\n",
    "except ValueError:\n",
    "    print(\"Invalid input! Please enter a number.\")\n"
   ]
  },
  {
   "cell_type": "markdown",
   "id": "50a30e74-fda5-4c26-a378-79afc538d022",
   "metadata": {},
   "source": [
    "### Why it's useful:"
   ]
  },
  {
   "cell_type": "markdown",
   "id": "9d12c8f2-9c85-47a3-8a36-e18b2c1c8b3b",
   "metadata": {},
   "source": [
    "- Prevents program from crashing.\n",
    "\n",
    "- Gives user-friendly error messages.\n",
    "\n",
    "- Allows developers to control what happens during errors."
   ]
  },
  {
   "cell_type": "markdown",
   "id": "8e0b6200-73fe-4fe3-b2b6-9f2b7c78f4b4",
   "metadata": {},
   "source": [
    "### Summary Sentence:"
   ]
  },
  {
   "cell_type": "markdown",
   "id": "b9720aa3-b43e-437d-89c3-4254c4c45715",
   "metadata": {},
   "source": [
    "- The try block checks for errors, and the except block responds to them, making your program more robust and user-friendly."
   ]
  },
  {
   "cell_type": "markdown",
   "id": "1b6ac995-66da-44ef-b039-3dec3acb7cf5",
   "metadata": {},
   "source": [
    "# 15. How does Python's garbage collection system work?"
   ]
  },
  {
   "cell_type": "markdown",
   "id": "12cbd1e8-7383-4ff5-977e-afb23d46c4ec",
   "metadata": {},
   "source": [
    "- Python uses an automatic memory management system, which includes a built-in garbage collection (GC) mechanism to handle the deallocation of memory that is no longer in use.\n",
    "\n",
    "- The goal of garbage collection is to free memory that is no longer needed, preventing memory leaks and improving program performance."
   ]
  },
  {
   "cell_type": "markdown",
   "id": "8eaaa3b2-7f79-453d-9ffc-7a5f3afa00da",
   "metadata": {},
   "source": [
    "### Key Components of Python's Garbage Collection System:"
   ]
  },
  {
   "cell_type": "code",
   "execution_count": null,
   "id": "f7e6795e-4230-4881-97b7-ad1200c11541",
   "metadata": {},
   "outputs": [],
   "source": [
    "'''\n",
    " Component\t                Description\n",
    " Reference Counting\t        Python tracks the number of references to each object. When the reference \n",
    "                            count reaches zero (no more references to the object), it is eligible for garbage collection.\n",
    "\n",
    " Cycle Detector\t            Python can detect and clean up circular references (objects referencing each other), which \n",
    "                            reference counting alone can't handle.\n",
    " \n",
    " Automatic Garbage Collection\tThe garbage collector runs periodically to identify and free objects \n",
    "                                that are no longer in use. It can also be triggered manually.\n",
    "'''"
   ]
  },
  {
   "cell_type": "markdown",
   "id": "afa9de75-dbbc-4da1-901b-a5496d6d3f96",
   "metadata": {},
   "source": [
    "### How it Works:"
   ]
  },
  {
   "cell_type": "markdown",
   "id": "540d633b-76ec-4b38-8bb9-5d941195a1f0",
   "metadata": {},
   "source": [
    "### Reference Counting:"
   ]
  },
  {
   "cell_type": "markdown",
   "id": "43d97c91-2645-4923-be2c-0e13a64f387c",
   "metadata": {},
   "source": [
    "- Every object has a reference count that increases when a new reference to the object is made.\n",
    "\n",
    "- When the reference count drops to zero, the object is automatically deallocated."
   ]
  },
  {
   "cell_type": "markdown",
   "id": "a73b333e-5e8c-4576-af9b-bccf8de20acd",
   "metadata": {},
   "source": [
    "### Garbage Collection (GC):"
   ]
  },
  {
   "cell_type": "markdown",
   "id": "9d0572f6-58ab-445a-908e-cc7fd1288ec0",
   "metadata": {},
   "source": [
    "- Detects Circular References: If two objects reference each other (creating a cycle), the reference count never reaches zero, and they cannot be freed by reference counting.\n",
    "\n",
    "- The GC module detects and cleans up such cycles."
   ]
  },
  {
   "cell_type": "markdown",
   "id": "6154a7fe-158a-45ac-83e6-bf0b1f83d986",
   "metadata": {},
   "source": [
    "### Memory Pools:"
   ]
  },
  {
   "cell_type": "markdown",
   "id": "f2cd08b1-2b58-4f30-8d03-bce9c384ae72",
   "metadata": {},
   "source": [
    "- Python uses an internal memory pool system for performance, which reduces the overhead of frequent memory allocation and deallocation."
   ]
  },
  {
   "cell_type": "markdown",
   "id": "2946c1dc-9d8d-4a89-8e98-f11a75d08c42",
   "metadata": {},
   "source": [
    "### Example:"
   ]
  },
  {
   "cell_type": "code",
   "execution_count": 45,
   "id": "04c9a376-ab4f-4a89-9750-573b683d4182",
   "metadata": {},
   "outputs": [
    {
     "name": "stdout",
     "output_type": "stream",
     "text": [
      "Object created!\n",
      "Object destroyed!\n"
     ]
    },
    {
     "data": {
      "text/plain": [
       "837"
      ]
     },
     "execution_count": 45,
     "metadata": {},
     "output_type": "execute_result"
    }
   ],
   "source": [
    "import gc\n",
    "\n",
    "class MyClass:\n",
    "    def __init__(self):\n",
    "        print(\"Object created!\")\n",
    "\n",
    "    def __del__(self):\n",
    "        print(\"Object destroyed!\")\n",
    "\n",
    "\n",
    "obj = MyClass()\n",
    "\n",
    "\n",
    "del obj\n",
    "\n",
    "# Force garbage collection to clean up\n",
    "gc.collect()\n"
   ]
  },
  {
   "cell_type": "markdown",
   "id": "76549cda-2c4a-4527-81fe-ce4e6ca0f4ec",
   "metadata": {},
   "source": [
    "### How to Manage Garbage Collection:"
   ]
  },
  {
   "cell_type": "markdown",
   "id": "0d82f076-f743-499d-ab27-56f90e005e0d",
   "metadata": {},
   "source": [
    "- You can manually interact with the garbage collection system using the gc module:\n",
    "\n",
    "  - gc.collect(): Forces the garbage collector to run immediately.\n",
    "\n",
    "  - gc.get_count(): Returns the current collection count (how many generations have been collected)."
   ]
  },
  {
   "cell_type": "markdown",
   "id": "6cfb20c8-5205-4107-bd36-973ad4256bac",
   "metadata": {},
   "source": [
    "### Summary Sentence:"
   ]
  },
  {
   "cell_type": "markdown",
   "id": "104e95b5-0789-4e3e-a18c-5267d22e1c94",
   "metadata": {},
   "source": [
    "- Python's garbage collection system combines reference counting and cycle detection to manage memory automatically, ensuring that objects are deleted when no longer in use and preventing memory leaks."
   ]
  },
  {
   "cell_type": "markdown",
   "id": "32045cd0-7910-4e6b-aaf9-d573d011d795",
   "metadata": {},
   "source": [
    "# 16. What is the purpose of the else block in exception handling?"
   ]
  },
  {
   "cell_type": "markdown",
   "id": "783c9220-fefc-4d2b-8028-48782dd0f16b",
   "metadata": {},
   "source": [
    "- The else block in Python exception handling is used to define a section of code that should run only if no exceptions are raised in the try block."
   ]
  },
  {
   "cell_type": "markdown",
   "id": "c2cc41c4-cc1e-449b-8a8e-04af980aefb0",
   "metadata": {},
   "source": [
    "### Purpose of the else block:"
   ]
  },
  {
   "cell_type": "code",
   "execution_count": null,
   "id": "472fd09e-49f8-4d6d-ba98-58de0b3db630",
   "metadata": {},
   "outputs": [],
   "source": [
    "'''\n",
    " Role\t                  Description\n",
    " Runs on success\t      Code inside else runs only if the try block completes without error.\n",
    " Keeps logic clean\t      Separates the error-handling (except) from the success path (else).\n",
    " Optional but useful\t  Helps make the code more readable and logically structured.\n",
    "'''"
   ]
  },
  {
   "cell_type": "code",
   "execution_count": 1,
   "id": "449bd0f1-fa33-4a50-ae68-a781cf91ee5d",
   "metadata": {},
   "outputs": [
    {
     "name": "stdin",
     "output_type": "stream",
     "text": [
      "Enter a number:  42\n"
     ]
    },
    {
     "name": "stdout",
     "output_type": "stream",
     "text": [
      "Success! The result is: 0.23809523809523808\n"
     ]
    }
   ],
   "source": [
    "try:\n",
    "    num = int(input(\"Enter a number: \"))\n",
    "    result = 10 / num\n",
    "except ZeroDivisionError:\n",
    "    print(\"Cannot divide by zero!\")\n",
    "except ValueError:\n",
    "    print(\"Invalid input! Not a number.\")\n",
    "else:\n",
    "    print(\"Success! The result is:\", result)\n"
   ]
  },
  {
   "cell_type": "markdown",
   "id": "27b3809d-37e3-4f0d-8e1e-0f817f3abc2c",
   "metadata": {},
   "source": [
    "### What happens:"
   ]
  },
  {
   "cell_type": "markdown",
   "id": "aa4da3f9-fc8a-4421-b11f-699ef4c2e464",
   "metadata": {},
   "source": [
    "- If input is 0 → ZeroDivisionError block runs.\n",
    "\n",
    "- If input is \"abc\" → ValueError block runs.\n",
    "\n",
    "- If input is a valid non-zero number → else block runs."
   ]
  },
  {
   "cell_type": "markdown",
   "id": "e124edf1-634f-4e37-b8aa-61ac8804ee77",
   "metadata": {},
   "source": [
    "### Summary:"
   ]
  },
  {
   "cell_type": "markdown",
   "id": "0261c9d2-34e9-4027-84cc-808756982020",
   "metadata": {},
   "source": [
    "- The else block is used to write code that should only run if no exception occurs — keeping your success code separate from your error-handling code."
   ]
  },
  {
   "cell_type": "markdown",
   "id": "d81b8a82-42e5-4f6c-995c-edd017fd4210",
   "metadata": {},
   "source": [
    "# 17. What are the common logging levels in Python?"
   ]
  },
  {
   "cell_type": "markdown",
   "id": "3a63cc88-c8b3-4819-b3b5-0c67c51e2417",
   "metadata": {},
   "source": [
    "- In Python, the logging module provides different logging levels to categorize the severity or importance of log messages. These help you understand the context of your program's behavior — whether it’s running normally, facing issues, or encountering critical errors."
   ]
  },
  {
   "cell_type": "markdown",
   "id": "392859e3-7068-4a15-a7ad-63a46f88ca92",
   "metadata": {},
   "source": [
    "### Common Logging Levels (from lowest to highest):"
   ]
  },
  {
   "cell_type": "code",
   "execution_count": null,
   "id": "7e2d58c4-6268-4262-971d-74ba11945aff",
   "metadata": {},
   "outputs": [],
   "source": [
    "'''\n",
    "Level\t  Function\t               Use Case Example\n",
    "DEBUG\t  logging.debug()\t       Detailed info for diagnosing problems.\n",
    "INFO\t  logging.info()\t       General events like program start or stop.\n",
    "WARNING\t  logging.warning()\t       Something unexpected, but program still works.\n",
    "ERROR\t  logging.error()\t       A serious problem — function failed to run.\n",
    "CRITICAL  logging.critical()\t   Very serious error — program may crash or stop.\n",
    "'''"
   ]
  },
  {
   "cell_type": "markdown",
   "id": "edff25e0-0aa6-452e-8bd0-ed32c963ffd7",
   "metadata": {},
   "source": [
    " ### Example Code:"
   ]
  },
  {
   "cell_type": "code",
   "execution_count": 2,
   "id": "29ab6db8-3f8e-4fa7-913d-19778d292310",
   "metadata": {},
   "outputs": [
    {
     "name": "stderr",
     "output_type": "stream",
     "text": [
      "DEBUG:root:This is a debug message.\n",
      "INFO:root:This is an info message.\n",
      "WARNING:root:This is a warning message.\n",
      "ERROR:root:This is an error message.\n",
      "CRITICAL:root:This is a critical message.\n"
     ]
    }
   ],
   "source": [
    "import logging\n",
    "\n",
    "logging.basicConfig(level=logging.DEBUG)  # Set level to see all messages\n",
    "\n",
    "logging.debug(\"This is a debug message.\")\n",
    "logging.info(\"This is an info message.\")\n",
    "logging.warning(\"This is a warning message.\")\n",
    "logging.error(\"This is an error message.\")\n",
    "logging.critical(\"This is a critical message.\")\n"
   ]
  },
  {
   "cell_type": "markdown",
   "id": "7d0906f5-0461-4122-8844-2980f3b11607",
   "metadata": {},
   "source": [
    "### Summary:"
   ]
  },
  {
   "cell_type": "markdown",
   "id": "d0f9ca98-c68f-4862-a10f-2c1165968f76",
   "metadata": {},
   "source": [
    "- Python logging levels let you track issues in your program based on severity. Use DEBUG and INFO for development, and WARNING, ERROR, or CRITICAL for handling real issues."
   ]
  },
  {
   "cell_type": "markdown",
   "id": "4649a792-75d3-4ef6-b1fe-2c63319e151e",
   "metadata": {},
   "source": [
    "# 18. What is the difference between os.fork() and multiprocessing in Python?"
   ]
  },
  {
   "cell_type": "markdown",
   "id": "28e640d6-d1f3-45ac-99f2-d7f90528ef7c",
   "metadata": {},
   "source": [
    "- Both os.fork() and the multiprocessing module are used to create new processes, but they are quite different in how they work and where they can be used."
   ]
  },
  {
   "cell_type": "markdown",
   "id": "4b2ae435-9fc4-4bd4-972a-3a62bc02fe7d",
   "metadata": {},
   "source": [
    "### Comparison Table:"
   ]
  },
  {
   "cell_type": "code",
   "execution_count": null,
   "id": "473dd2bd-564b-4ea8-9998-21153910c711",
   "metadata": {},
   "outputs": [],
   "source": [
    "'''\n",
    " Feature\t    os.fork()\t                                multiprocessing module\n",
    " Platform\t    Only works on Unix/Linux systems\t        Works on all platforms, including Windows\n",
    " Simplicity  \tLow-level, requires manual handling     \tHigh-level, easier to use\n",
    " Safety\tLess    safe, no automatic resource handling\t    Safer and more controlled\n",
    " Flexibility\tHarder to manage child process behavior  \tOffers Process, Queue, Pipe, Pool, etc.\n",
    " Use Case\t    Good for simple Unix process creation\t    Best for writing portable, robust programs\n",
    "'''"
   ]
  },
  {
   "cell_type": "markdown",
   "id": "77dbbe56-2835-4dc9-92c6-af62a2f0e3da",
   "metadata": {},
   "source": [
    "### Example of os.fork() (Linux/Mac only):"
   ]
  },
  {
   "cell_type": "code",
   "execution_count": null,
   "id": "ca0b3074-1a66-4ab1-9b47-95390701a406",
   "metadata": {},
   "outputs": [],
   "source": [
    "import os\n",
    "\n",
    "pid = os.fork()\n",
    "if pid == 0:\n",
    "    print(\"Child process\")\n",
    "else:\n",
    "    print(\"Parent process\")\n"
   ]
  },
  {
   "cell_type": "markdown",
   "id": "46e3a635-ad45-48d8-b66d-8868accdc12a",
   "metadata": {},
   "source": [
    "###  Example of multiprocessing:"
   ]
  },
  {
   "cell_type": "code",
   "execution_count": 4,
   "id": "0a7180a7-a945-458a-9a32-6ed45aabbd8f",
   "metadata": {},
   "outputs": [],
   "source": [
    "import multiprocessing\n",
    "\n",
    "def task():\n",
    "    print(\"Child process\")\n",
    "\n",
    "if __name__ == \"__main__\":\n",
    "    p = multiprocessing.Process(target=task)\n",
    "    p.start()\n",
    "    p.join()\n"
   ]
  },
  {
   "cell_type": "markdown",
   "id": "d848ca0b-1ba5-4be5-8b22-82e340699091",
   "metadata": {},
   "source": [
    "### Summary:"
   ]
  },
  {
   "cell_type": "markdown",
   "id": "be4baa51-3bf5-4b5b-b251-1a7af075e493",
   "metadata": {},
   "source": [
    "- Use **os.fork()** only if you're on Unix/Linux and need low-level process control.\n",
    "\n",
    "- Use **multiprocessing** for cross-platform, easy-to-write, and safe parallel processing in Python."
   ]
  },
  {
   "cell_type": "markdown",
   "id": "372528a0-b1be-44da-89bf-a3615ab5564d",
   "metadata": {},
   "source": [
    "# 19. What is the importance of closing a file in Python?"
   ]
  },
  {
   "cell_type": "markdown",
   "id": "1bf642ac-9134-4cab-b31e-0f32fea6f1f0",
   "metadata": {},
   "source": [
    "- Closing a file in Python is a crucial step in file handling because it ensures that all the resources associated with the file are properly released. When you open a file, the operating system allocates resources (like memory and file descriptors) to manage the file. If you don’t close it, these resources might not be released properly, leading to potential memory leaks, file corruption, or locked files."
   ]
  },
  {
   "cell_type": "markdown",
   "id": "f476011a-23d7-40de-ba08-cdc1e68a217d",
   "metadata": {},
   "source": [
    "### Why is it important to close a file?"
   ]
  },
  {
   "cell_type": "markdown",
   "id": "e8e50b81-afbe-4369-9643-c98ce20eafe5",
   "metadata": {},
   "source": [
    "### Release Resources:"
   ]
  },
  {
   "cell_type": "markdown",
   "id": "659a3cbf-5ec7-4167-b92b-53a4585a15e9",
   "metadata": {},
   "source": [
    "- When a file is opened, it takes up system resources. Closing it frees these resources so the operating system can reuse them."
   ]
  },
  {
   "cell_type": "markdown",
   "id": "5ef1991d-35c2-4f8b-a5c3-3324cc850a6d",
   "metadata": {},
   "source": [
    "### Data Integrity:"
   ]
  },
  {
   "cell_type": "markdown",
   "id": "78485d3e-c0da-47d2-ae82-156344a9283b",
   "metadata": {},
   "source": [
    "- Writing data to a file may not be fully written until the file is closed. If you don't close the file, there may be incomplete data or data loss."
   ]
  },
  {
   "cell_type": "markdown",
   "id": "2aaaeb32-da60-41e5-b0bd-b0d853ae721d",
   "metadata": {},
   "source": [
    "### Avoid File Locks:"
   ]
  },
  {
   "cell_type": "markdown",
   "id": "2485b8c6-ba22-4784-bcb1-6fdbfa46703c",
   "metadata": {},
   "source": [
    "- Some systems lock files when they are open. Not closing a file might leave it locked, preventing other processes or programs from accessing it."
   ]
  },
  {
   "cell_type": "markdown",
   "id": "9dde9d77-a118-4c04-987c-57836cb1c094",
   "metadata": {},
   "source": [
    "### Better Performance:"
   ]
  },
  {
   "cell_type": "markdown",
   "id": "d41c2986-ae48-433f-92f8-b92d6ad6969e",
   "metadata": {},
   "source": [
    "- Closing files allows the system to efficiently manage file access and resources."
   ]
  },
  {
   "cell_type": "markdown",
   "id": "ede974a0-8f54-428e-a698-34aaf89dfaa0",
   "metadata": {},
   "source": [
    "###  Example:"
   ]
  },
  {
   "cell_type": "code",
   "execution_count": 5,
   "id": "18f6fac1-6fda-41e7-b0a6-fad96a27fe34",
   "metadata": {},
   "outputs": [],
   "source": [
    "\n",
    "file = open(\"example.txt\", \"w\")\n",
    "\n",
    "\n",
    "file.write(\"Hello, World!\")\n",
    "\n",
    "# Always close the file after use\n",
    "file.close()\n"
   ]
  },
  {
   "cell_type": "markdown",
   "id": "86e27922-6e07-4c0e-83ed-4dc3f4ae1f11",
   "metadata": {},
   "source": [
    "### Best Practice: Using with Statement"
   ]
  },
  {
   "cell_type": "markdown",
   "id": "0f82b5dd-6666-4cea-9d02-7a7668a4ed5a",
   "metadata": {},
   "source": [
    "- You can use the with statement to ensure that a file is automatically closed when the block is exited, even if an exception occurs. This is a more efficient and safer way of working with files."
   ]
  },
  {
   "cell_type": "code",
   "execution_count": 10,
   "id": "66b3cd83-fe30-47b0-a848-c1d6be76943d",
   "metadata": {},
   "outputs": [
    {
     "name": "stdout",
     "output_type": "stream",
     "text": [
      "Hello, World!\n"
     ]
    }
   ],
   "source": [
    "\n",
    "with open(\"example.txt\", \"w\") as file:\n",
    "    file.write(\"Hello, World!\")\n",
    "with open(\"example.txt\", \"r\") as file:\n",
    "    content = file.read()\n",
    "    print(content)\n"
   ]
  },
  {
   "cell_type": "markdown",
   "id": "35f2e842-bc79-42dc-9e90-62f07be9ae78",
   "metadata": {},
   "source": [
    "### Summary:"
   ]
  },
  {
   "cell_type": "markdown",
   "id": "3af191eb-a649-4ffc-85f8-1a492c3840d0",
   "metadata": {},
   "source": [
    "- Closing a file is essential for resource management, data integrity, and performance. The with statement is a safer and more efficient way to handle file operations, as it ensures the file is closed automatically."
   ]
  },
  {
   "cell_type": "markdown",
   "id": "3f61d04f-5c28-47d1-a9ce-7351c5833aaf",
   "metadata": {},
   "source": [
    "# 20. What is the difference between file.read() and file.readline() in Python?"
   ]
  },
  {
   "cell_type": "markdown",
   "id": "5a893608-bf40-4bcc-8ef4-2324aac2309d",
   "metadata": {},
   "source": [
    "- Both file.read() and file.readline() are methods used to read content from a file in Python. However, they differ in how they read the file and what they return."
   ]
  },
  {
   "cell_type": "markdown",
   "id": "6e2327e3-b4c2-470e-a1aa-4bd908a52b01",
   "metadata": {},
   "source": [
    "### file.read()"
   ]
  },
  {
   "cell_type": "markdown",
   "id": "4625b525-ecc5-4559-997d-209196f94064",
   "metadata": {},
   "source": [
    "- Purpose: Reads the entire content of the file at once.\n",
    "\n",
    "- Returns: A single string containing all the text in the file.\n",
    "\n",
    "- When to Use: When you want to read the entire file at once (usually for small to moderate-sized files)."
   ]
  },
  {
   "cell_type": "markdown",
   "id": "0bab8426-792c-41d6-ae8b-ba96b9cab2af",
   "metadata": {},
   "source": [
    "### Example:"
   ]
  },
  {
   "cell_type": "code",
   "execution_count": 12,
   "id": "054101ac-89be-41fd-86f7-20ebc1e81f56",
   "metadata": {},
   "outputs": [
    {
     "name": "stdout",
     "output_type": "stream",
     "text": [
      "Hello, World!\n",
      "\n",
      "This is second line\n",
      "\n"
     ]
    }
   ],
   "source": [
    "with open(\"example.txt\", \"r\") as file:\n",
    "    content = file.read()\n",
    "    print(content)"
   ]
  },
  {
   "cell_type": "markdown",
   "id": "d94c7ad5-cc7e-40c4-8a0d-fb891f08bd2a",
   "metadata": {},
   "source": [
    "### file.readline()"
   ]
  },
  {
   "cell_type": "markdown",
   "id": "f9867662-ad35-47b7-912c-62a4673ed03b",
   "metadata": {},
   "source": [
    "- Purpose: Reads one line at a time from the file.\n",
    "\n",
    "- Returns: A single string representing the next line in the file (including the newline character \\n).\n",
    "\n",
    "- When to Use: When you want to read the file line by line, which is memory efficient for large files."
   ]
  },
  {
   "cell_type": "code",
   "execution_count": 13,
   "id": "23e61ce1-931b-4e3e-9e4e-e182b9607d90",
   "metadata": {},
   "outputs": [
    {
     "name": "stdout",
     "output_type": "stream",
     "text": [
      "Hello, World!\n",
      "\n"
     ]
    }
   ],
   "source": [
    "with open(\"example.txt\", \"r\") as file:\n",
    "    line = file.readline()\n",
    "    print(line)\n"
   ]
  },
  {
   "cell_type": "markdown",
   "id": "868379c2-982f-4e5f-be5e-cfb4da43587b",
   "metadata": {},
   "source": [
    "- You can use readline() multiple times in a loop to read all lines one by one:"
   ]
  },
  {
   "cell_type": "code",
   "execution_count": 14,
   "id": "fd16a49d-8614-497e-994e-d38388597741",
   "metadata": {},
   "outputs": [
    {
     "name": "stdout",
     "output_type": "stream",
     "text": [
      "Hello, World!\n",
      "\n",
      "This is second line\n"
     ]
    }
   ],
   "source": [
    "with open(\"example.txt\", \"r\") as file:\n",
    "    line = file.readline()\n",
    "    while line:\n",
    "        print(line, end='')  \n",
    "        line = file.readline()\n"
   ]
  },
  {
   "cell_type": "markdown",
   "id": "34502888-14cb-440e-9ea0-d25b8e42deb8",
   "metadata": {},
   "source": [
    "### Key Differences:"
   ]
  },
  {
   "cell_type": "code",
   "execution_count": null,
   "id": "1526690c-545d-41ae-9633-fbc283ba2949",
   "metadata": {},
   "outputs": [],
   "source": [
    "'''\n",
    "Feature             \tfile.read()\t                            file.readline()\n",
    "Reads\t                The entire file (as a single string).\tOne line at a time.\n",
    "Memory Efficiency\t    Uses more memory (reads everything).\tMore memory-efficient (reads line by line).\n",
    "Return Type\t            A string containing all file contents.\tA string containing the next line (with \\n).\n",
    "Use Case\t            Best for smaller files.\t                Best for larger files or when processing line-by-line.\n",
    "'''"
   ]
  },
  {
   "cell_type": "markdown",
   "id": "2c6d740e-49d1-4005-917e-5058ea9747cc",
   "metadata": {},
   "source": [
    "### Summary:"
   ]
  },
  {
   "cell_type": "markdown",
   "id": "ceee54fe-fa82-4b02-8060-eaa755a1415d",
   "metadata": {},
   "source": [
    "- Use **file.read()** when you want to read the entire content of the file at once.\n",
    "\n",
    "- Use **file.readline()** when you want to read the file line by line, especially for larger files to avoid high memory consumption."
   ]
  },
  {
   "cell_type": "markdown",
   "id": "a8248d76-ec7d-4058-ac65-41d702aff1a8",
   "metadata": {},
   "source": [
    "# 21. What is the logging module in Python used for?"
   ]
  },
  {
   "cell_type": "markdown",
   "id": "199fdf4e-af96-497f-b73c-8db3ed2d126e",
   "metadata": {},
   "source": [
    "- The logging module in Python is used for adding logging functionality to your programs. Logging allows you to record messages about your program's execution, which can help you track events, errors, and debugging information. It's especially useful for understanding the flow of a program and diagnosing problems when they occur."
   ]
  },
  {
   "cell_type": "markdown",
   "id": "ffc9d962-86d0-4010-8341-c913c2eaac0e",
   "metadata": {},
   "source": [
    "### Key Features of the logging Module:"
   ]
  },
  {
   "cell_type": "markdown",
   "id": "47d55b65-584e-4439-b155-565b6356f502",
   "metadata": {},
   "source": [
    "### Tracking Program Execution:"
   ]
  },
  {
   "cell_type": "markdown",
   "id": "16f9ebea-657c-4793-b7b5-e5c5603779ae",
   "metadata": {},
   "source": [
    "- Logs give you insight into how your program is running by recording specific events or messages at various points in the program."
   ]
  },
  {
   "cell_type": "markdown",
   "id": "7d900492-891c-4923-a1de-bc14c602bc48",
   "metadata": {},
   "source": [
    "### Error Handling:"
   ]
  },
  {
   "cell_type": "markdown",
   "id": "290bcc4c-aa2c-4fa6-9d57-49fcd7c54b07",
   "metadata": {},
   "source": [
    "- You can log error messages to capture exceptions, making it easier to debug when something goes wrong."
   ]
  },
  {
   "cell_type": "markdown",
   "id": "f128e74a-6efd-4efe-8f85-8c47ecd328dc",
   "metadata": {},
   "source": [
    "### Flexible Logging Levels:"
   ]
  },
  {
   "cell_type": "markdown",
   "id": "c7c064df-1e02-4e9e-a96e-d070408628af",
   "metadata": {},
   "source": [
    "- You can set different log levels (e.g., DEBUG, INFO, WARNING, ERROR, CRITICAL) to indicate the severity or importance of the messages."
   ]
  },
  {
   "cell_type": "markdown",
   "id": "334fde52-340d-4729-ba43-e4ef10feeb85",
   "metadata": {},
   "source": [
    "### External Output:"
   ]
  },
  {
   "cell_type": "markdown",
   "id": "1d48fa68-1965-4894-b886-355ba878235a",
   "metadata": {},
   "source": [
    "- Logs can be written to various output destinations, such as console, files, or even remote servers."
   ]
  },
  {
   "cell_type": "markdown",
   "id": "0baef39e-f32e-4c1a-a449-3985c27d07e5",
   "metadata": {},
   "source": [
    "### Better Debugging:"
   ]
  },
  {
   "cell_type": "markdown",
   "id": "fa7074b0-d8df-4e47-b5b9-9a7a852f453b",
   "metadata": {},
   "source": [
    "- By including relevant information in logs, you can quickly identify the source of problems, even after the program has finished executing."
   ]
  },
  {
   "cell_type": "markdown",
   "id": "2a5d0351-9a15-4fec-8a57-1f3f840cab32",
   "metadata": {},
   "source": [
    "### Example of Using the logging Module:"
   ]
  },
  {
   "cell_type": "code",
   "execution_count": 20,
   "id": "7628d078-2cda-4f7b-a39a-31104da876eb",
   "metadata": {},
   "outputs": [
    {
     "name": "stderr",
     "output_type": "stream",
     "text": [
      "DEBUG:root:This is a debug message.\n",
      "INFO:root:This is an info message.\n",
      "WARNING:root:This is a warning message.\n",
      "ERROR:root:This is an error message.\n",
      "CRITICAL:root:This is a critical message.\n"
     ]
    }
   ],
   "source": [
    "import logging\n",
    "\n",
    "# Set up basic configuration for logging with custom format\n",
    "logging.basicConfig(level=logging.DEBUG, format='%(asctime)s - %(levelname)s - %(message)s')\n",
    "\n",
    "# Sample log messages\n",
    "logging.debug('This is a debug message.')\n",
    "logging.info('This is an info message.')\n",
    "logging.warning('This is a warning message.')\n",
    "logging.error('This is an error message.')\n",
    "logging.critical('This is a critical message.')\n"
   ]
  },
  {
   "cell_type": "markdown",
   "id": "8ab83547-af86-427e-968e-e2c1fe83a8cd",
   "metadata": {},
   "source": [
    "### In this example:"
   ]
  },
  {
   "cell_type": "markdown",
   "id": "da4b6aa5-361a-45b3-bb84-45026eae2336",
   "metadata": {},
   "source": [
    "- logging.basicConfig() sets up the logging configuration, including the minimum log level (DEBUG) and the format of the log message.\n",
    "\n",
    "- The log level you choose determines what types of messages will be logged. For instance, with DEBUG, all log levels (from DEBUG to CRITICAL) will be recorded."
   ]
  },
  {
   "cell_type": "markdown",
   "id": "0ab22775-e59d-4be2-9b86-366fddbcd173",
   "metadata": {},
   "source": [
    "###  Log Levels in Python's logging Module:"
   ]
  },
  {
   "cell_type": "markdown",
   "id": "caaa4cb8-2480-4f24-ac04-6263b7857078",
   "metadata": {},
   "source": [
    "- DEBUG: Detailed information, typically useful for diagnosing problems.\n",
    "\n",
    "- INFO: General information about the program's execution (e.g., program start).\n",
    "\n",
    "- WARNING: An indication that something unexpected happened, but the program is still running.\n",
    "\n",
    "- ERROR: Indicates a more serious problem, like an exception.\n",
    "\n",
    "- CRITICAL: A very serious error that may prevent the program from continuing."
   ]
  },
  {
   "cell_type": "markdown",
   "id": "845c3c5c-8940-4036-982d-fd27c58d5dca",
   "metadata": {},
   "source": [
    "### Why is Logging Important?"
   ]
  },
  {
   "cell_type": "markdown",
   "id": "6ca1ca02-769c-4322-aaf9-83b8620fd9ec",
   "metadata": {},
   "source": [
    "- Debugging: It helps you find issues and track down bugs.\n",
    "\n",
    "- Monitoring: Logs provide insights into the program's behavior, which is important for maintenance and monitoring.\n",
    "\n",
    "- Record Keeping: Logs can be stored for future reference, helping with audit trails and understanding past behavior.\n",
    "\n",
    "- Production Environment: In production, logs provide crucial information for diagnosing issues that occur after deployment."
   ]
  },
  {
   "cell_type": "markdown",
   "id": "a436c846-a6f4-460f-b443-15eb0386a965",
   "metadata": {},
   "source": [
    "### Summary:"
   ]
  },
  {
   "cell_type": "markdown",
   "id": "df4fb5b8-be11-400d-9e2a-763b83608aba",
   "metadata": {},
   "source": [
    "- The logging module is an essential tool in Python for recording messages about your program's execution. It helps in debugging, monitoring, and error handling, and can be customized for various use cases and log levels."
   ]
  },
  {
   "cell_type": "markdown",
   "id": "d254a316-0089-4411-abdf-d0ea665a2737",
   "metadata": {},
   "source": [
    "# 22. What is the os module in Python used for in file handling?"
   ]
  },
  {
   "cell_type": "markdown",
   "id": "0b33f8ad-4d36-4fac-b0e7-1b76a06f00bb",
   "metadata": {},
   "source": [
    "- The os module in Python provides a way of interacting with the operating system, and it offers a variety of functions to handle and manipulate files and directories. It helps you manage file paths, create, remove, or rename files and directories, and perform other file system operations."
   ]
  },
  {
   "cell_type": "markdown",
   "id": "38cab458-c3b9-41bf-8861-b7856ea91863",
   "metadata": {},
   "source": [
    "### Key Features of the os module in File Handling:\n"
   ]
  },
  {
   "cell_type": "markdown",
   "id": "7178e1af-cea4-4121-a5c3-33cd29bfacdf",
   "metadata": {},
   "source": [
    "### File and Directory Operations:"
   ]
  },
  {
   "cell_type": "markdown",
   "id": "f523bb06-a408-4563-9ea6-a4025261ec71",
   "metadata": {},
   "source": [
    "- Create, remove, or rename files and directories."
   ]
  },
  {
   "cell_type": "markdown",
   "id": "bf65e9f3-17f4-463e-80da-e77546f1c6cf",
   "metadata": {},
   "source": [
    "### Path Manipulation:"
   ]
  },
  {
   "cell_type": "markdown",
   "id": "4e5fdaea-3279-4512-8773-e23fe3593e50",
   "metadata": {},
   "source": [
    "- Handle file paths in a platform-independent way (e.g., join paths, check if a path exists)."
   ]
  },
  {
   "cell_type": "markdown",
   "id": "0f0c2df2-d149-47fe-aba0-22fa6cb258ad",
   "metadata": {},
   "source": [
    "### File Permissions:"
   ]
  },
  {
   "cell_type": "markdown",
   "id": "6a4460d9-0d23-4aa4-be6d-9657e53affc6",
   "metadata": {},
   "source": [
    "- Change file permissions or check the access rights of files."
   ]
  },
  {
   "cell_type": "markdown",
   "id": "733a6697-56b3-4ba7-ac35-9d7bfc129a53",
   "metadata": {},
   "source": [
    "### Environment Variables:"
   ]
  },
  {
   "cell_type": "markdown",
   "id": "54cbdb0f-1c50-4864-8891-e7b82ab4a98a",
   "metadata": {},
   "source": [
    "- Get or set environment variables that can control how files and processes "
   ]
  },
  {
   "cell_type": "markdown",
   "id": "a8887003-16f1-40e1-8cbc-e1c0a58ae976",
   "metadata": {},
   "source": [
    "### Commonly Used os Functions in File Handling:"
   ]
  },
  {
   "cell_type": "markdown",
   "id": "092bab44-bf9f-47e3-b554-368dde17cc87",
   "metadata": {},
   "source": [
    "- os.rename():\n",
    "\n",
    "  - Renames a file or directory."
   ]
  },
  {
   "cell_type": "code",
   "execution_count": 23,
   "id": "a9f7eb4a-0d61-4e4c-8231-a4dba139dc57",
   "metadata": {},
   "outputs": [],
   "source": [
    "import os\n",
    "os.rename(\"example.txt\", \"new_name.txt\")\n"
   ]
  },
  {
   "cell_type": "markdown",
   "id": "4cc2b3ee-bb00-4319-b769-6ed6d617834b",
   "metadata": {},
   "source": [
    "- os.remove():\n",
    "  - Removes (deletes) a file."
   ]
  },
  {
   "cell_type": "code",
   "execution_count": 24,
   "id": "0083c4e9-0342-47ba-8fcb-089682e71d14",
   "metadata": {},
   "outputs": [],
   "source": [
    "import os\n",
    "os.remove(\"new_name.txt\")\n"
   ]
  },
  {
   "cell_type": "markdown",
   "id": "889d74fa-6a04-4cc1-90b8-f2819552a527",
   "metadata": {},
   "source": [
    "- os.mkdir():\n",
    "\n",
    "  -  Creates a new directory."
   ]
  },
  {
   "cell_type": "code",
   "execution_count": 25,
   "id": "f8698021-4004-465b-8674-1d33d9a96916",
   "metadata": {},
   "outputs": [],
   "source": [
    "import os\n",
    "os.mkdir(\"new_directory\")"
   ]
  },
  {
   "cell_type": "markdown",
   "id": "5989070b-808a-4238-82ab-bbdfced2161b",
   "metadata": {},
   "source": [
    "- os.rmdir():\n",
    "\n",
    "  - Removes an empty directory."
   ]
  },
  {
   "cell_type": "code",
   "execution_count": 27,
   "id": "0b4d572b-9059-418a-8b06-108c2684b113",
   "metadata": {},
   "outputs": [],
   "source": [
    "import os\n",
    "os.rmdir(\"new_directory\")"
   ]
  },
  {
   "cell_type": "markdown",
   "id": "3bac1e61-4cec-49a0-8736-9dfe04665b44",
   "metadata": {},
   "source": [
    "- os.path.join():\n",
    "\n",
    "  -  Joins one or more path components, creating a full file path (useful for cross-platform compatibility)."
   ]
  },
  {
   "cell_type": "code",
   "execution_count": 28,
   "id": "2d5f30b5-5160-456d-90ae-05c3bcd25468",
   "metadata": {},
   "outputs": [
    {
     "name": "stdout",
     "output_type": "stream",
     "text": [
      "folder\\subfolder\\file.txt\n"
     ]
    }
   ],
   "source": [
    "import os\n",
    "path = os.path.join(\"folder\", \"subfolder\", \"file.txt\")\n",
    "print(path)  # Output: folder/subfolder/file.txt (on Unix-like OS)\n"
   ]
  },
  {
   "cell_type": "markdown",
   "id": "c4e86026-22d4-4d9f-af16-323d3946508b",
   "metadata": {},
   "source": [
    "- os.path.exists():\n",
    "\n",
    "  -  Checks if a file or directory exists."
   ]
  },
  {
   "cell_type": "code",
   "execution_count": 29,
   "id": "649b1396-ed25-43fa-b387-64514c462142",
   "metadata": {},
   "outputs": [
    {
     "name": "stdout",
     "output_type": "stream",
     "text": [
      "False\n"
     ]
    }
   ],
   "source": [
    "import os\n",
    "print(os.path.exists(\"example.txt\"))  # Returns True if file exists, False otherwise\n"
   ]
  },
  {
   "cell_type": "markdown",
   "id": "0cfd57b4-9dd0-421f-9060-31f4ae206ee9",
   "metadata": {},
   "source": [
    "- os.listdir():\n",
    "\n",
    "  - Returns a list of files and directories in the specified path."
   ]
  },
  {
   "cell_type": "code",
   "execution_count": 30,
   "id": "cf005022-a4b0-4abb-a9e7-2152bed52c39",
   "metadata": {},
   "outputs": [
    {
     "name": "stdout",
     "output_type": "stream",
     "text": [
      "['.ipynb_checkpoints', 'Files, exceptional handling, logging and memory management.ipynb']\n"
     ]
    }
   ],
   "source": [
    "import os\n",
    "files = os.listdir(\".\")  # Lists all files and directories in the current directory\n",
    "print(files)\n"
   ]
  },
  {
   "cell_type": "markdown",
   "id": "7ea5df03-36ec-4f5e-98ac-8ff5ee54a738",
   "metadata": {},
   "source": [
    "- os.getcwd():\n",
    "\n",
    "  - Returns the current working directory."
   ]
  },
  {
   "cell_type": "code",
   "execution_count": 31,
   "id": "39ee86b0-72e4-477e-a807-3254049cc3cb",
   "metadata": {},
   "outputs": [
    {
     "name": "stdout",
     "output_type": "stream",
     "text": [
      "C:\\Users\\Lenovo\\Desktop\\python\\PYTHON-5\n"
     ]
    }
   ],
   "source": [
    "import os\n",
    "print(os.getcwd())  # Prints the current directory\n"
   ]
  },
  {
   "cell_type": "markdown",
   "id": "00b84d86-80bc-4a4a-ba65-a2b222ffd78b",
   "metadata": {},
   "source": [
    "- os.chdir():\n",
    "\n",
    "  - Changes the current working directory."
   ]
  },
  {
   "cell_type": "code",
   "execution_count": 36,
   "id": "19551c91-8ba1-4da2-9cc5-8df888e52f4d",
   "metadata": {},
   "outputs": [],
   "source": [
    "import os\n",
    "os.chdir(r\"C:\\Users\\Lenovo\\Desktop\\python\")\n"
   ]
  },
  {
   "cell_type": "markdown",
   "id": "01b0a5a8-79ff-4acd-b57f-5d605d1a43d0",
   "metadata": {},
   "source": [
    "### Example of Using os in File Handling:\n"
   ]
  },
  {
   "cell_type": "code",
   "execution_count": 37,
   "id": "045cbf44-86e0-4c4a-8652-79a3cdb393d7",
   "metadata": {},
   "outputs": [
    {
     "name": "stdout",
     "output_type": "stream",
     "text": [
      "['new_file.txt']\n"
     ]
    }
   ],
   "source": [
    "import os\n",
    "\n",
    "# Create a new directory\n",
    "os.mkdir(\"new_directory\")\n",
    "\n",
    "# Change the current working directory to the new directory\n",
    "os.chdir(\"new_directory\")\n",
    "\n",
    "# Create a new file in the new directory\n",
    "with open(\"new_file.txt\", \"w\") as file:\n",
    "    file.write(\"This is a test file.\")\n",
    "\n",
    "# List the files in the current directory\n",
    "print(os.listdir(\".\"))  # Output: ['new_file.txt']\n",
    "\n",
    "# Go back to the previous directory\n",
    "os.chdir(\"..\")\n",
    "\n",
    "# Remove the file and the directory\n",
    "os.remove(\"new_directory/new_file.txt\")\n",
    "os.rmdir(\"new_directory\")\n"
   ]
  },
  {
   "cell_type": "markdown",
   "id": "cb0dec60-9972-47a3-a3a4-aadaa282c9d2",
   "metadata": {},
   "source": [
    "### Key Benefits of Using os in File Handling:"
   ]
  },
  {
   "cell_type": "markdown",
   "id": "9a142777-7fce-4739-8bc8-222df313fe00",
   "metadata": {},
   "source": [
    "- Cross-platform compatibility: The os module handles file paths in a way that works across different operating systems (Windows, Linux, macOS).\n",
    "\n",
    "- Automated file and directory management: You can create, rename, and remove files and directories programmatically.\n",
    "\n",
    "- Access to system-level functionality: The os module allows you to interact with the operating system, providing a way to automate tasks beyond simple file reading and writing."
   ]
  },
  {
   "cell_type": "markdown",
   "id": "a81e111a-c606-42de-8f3e-7045b781a532",
   "metadata": {},
   "source": [
    "### Summary:"
   ]
  },
  {
   "cell_type": "markdown",
   "id": "41c96b90-8219-4a2c-888f-358f854b46aa",
   "metadata": {},
   "source": [
    "- The os module in Python is a powerful tool for interacting with the file system. It allows you to perform tasks such as file creation, deletion, renaming, and path manipulation, as well as checking for file existence and managing directories. This module is essential for working with files and directories at a system level."
   ]
  },
  {
   "cell_type": "markdown",
   "id": "51e908a1-21be-4c09-a527-e1f2f9d4b2c0",
   "metadata": {},
   "source": [
    "# 23. What are the challenges associated with memory management in Python?"
   ]
  },
  {
   "cell_type": "markdown",
   "id": "b0492a0f-1f0c-482c-8a81-b7ce77307851",
   "metadata": {},
   "source": [
    "- Memory management in Python is handled automatically by the Python memory manager. However, it still comes with some challenges, particularly when dealing with large datasets, performance concerns, and managing memory leaks. Let’s break down the key challenges involved:"
   ]
  },
  {
   "cell_type": "markdown",
   "id": "aee6495a-2723-489d-9aca-e89d5807346f",
   "metadata": {},
   "source": [
    "### 1. Garbage Collection and Memory Leaks:"
   ]
  },
  {
   "cell_type": "markdown",
   "id": "1c1674ae-eba0-4994-87e6-abe115cd5569",
   "metadata": {},
   "source": [
    "#### Garbage Collection:"
   ]
  },
  {
   "cell_type": "markdown",
   "id": "6edbd73f-2e0b-4d46-a4c7-17f0c22a1daa",
   "metadata": {},
   "source": [
    "- Python uses automatic garbage collection to manage memory. The garbage collector removes objects that are no longer in use by the program (i.e., when there are no references to an object).\n",
    "\n",
    "- However, there are some situations where cyclic references (when two or more objects reference each other) may prevent the garbage collector from freeing up memory, leading to memory leaks."
   ]
  },
  {
   "cell_type": "markdown",
   "id": "30e83b18-d65d-4a92-b3cb-c3fc0f151a85",
   "metadata": {},
   "source": [
    "#### Memory Leaks:"
   ]
  },
  {
   "cell_type": "markdown",
   "id": "b941ee2b-ec41-47fb-91f2-a37a5be3718b",
   "metadata": {},
   "source": [
    "- A memory leak occurs when objects are no longer needed but the memory they occupy is not released. In Python, this can happen when references to an object are unintentionally held, even though the object is no longer useful.\n",
    "\n",
    "- Solution: Using weak references (weakref module) can help avoid memory leaks, as they don't increase the reference count, allowing objects to be garbage collected even when still referenced in some cases."
   ]
  },
  {
   "cell_type": "markdown",
   "id": "b02e8a76-4843-4127-b0b5-08aca8d05c97",
   "metadata": {},
   "source": [
    "### 2. Reference Counting and Object Lifecycle:"
   ]
  },
  {
   "cell_type": "markdown",
   "id": "27db6add-0732-4bf3-85bb-57803415a77c",
   "metadata": {},
   "source": [
    "#### Reference Counting:"
   ]
  },
  {
   "cell_type": "markdown",
   "id": "b6e66d03-40a2-4968-bb43-77e909138717",
   "metadata": {},
   "source": [
    "- Python uses reference counting as the primary method for memory management. When the reference count of an object reaches zero, it is garbage collected.\n",
    "\n",
    "- While reference counting is generally efficient, it may not work well with cyclic references (objects referencing each other), as these objects may never have their reference count reduced to zero."
   ]
  },
  {
   "cell_type": "markdown",
   "id": "80a81a75-e017-4d3a-90eb-e6e920acae1f",
   "metadata": {},
   "source": [
    "#### Cyclic Garbage Collection:"
   ]
  },
  {
   "cell_type": "markdown",
   "id": "46754580-5faf-4a52-91bc-46999c693604",
   "metadata": {},
   "source": [
    "- To address cyclic references, Python includes a cyclic garbage collector, which looks for objects involved in reference cycles. However, this collector is not perfect and may not run as frequently as needed, causing potential memory issues."
   ]
  },
  {
   "cell_type": "markdown",
   "id": "181ee22a-4f1c-4920-85be-0ff780b18340",
   "metadata": {},
   "source": [
    "### 3. Memory Fragmentation:"
   ]
  },
  {
   "cell_type": "markdown",
   "id": "ca5301df-0185-4cc1-b68a-c0f90995b826",
   "metadata": {},
   "source": [
    "- Memory fragmentation happens when memory is allocated and deallocated in small chunks. Over time, this can cause a situation where there is insufficient large contiguous memory, which may reduce the program's performance.\n",
    "\n",
    "- Python’s memory manager tries to manage fragmentation by using pools (from pymalloc), but it still faces challenges in highly dynamic and memory-intensive programs."
   ]
  },
  {
   "cell_type": "markdown",
   "id": "7238b3d2-d059-41a4-9ba0-5415c06870ac",
   "metadata": {},
   "source": [
    "### 4. High Memory Consumption with Large Objects:"
   ]
  },
  {
   "cell_type": "markdown",
   "id": "2dee588e-535e-476c-b9d4-0a9029c6921f",
   "metadata": {},
   "source": [
    "- Python’s dynamic typing and high-level nature result in objects taking more memory than necessary. For example, Python objects like integers or strings are stored with metadata, making them larger than their raw data representation.\n",
    "\n",
    "- For example, a list in Python is an array of references to objects, and each object is a separate entity in memory."
   ]
  },
  {
   "cell_type": "markdown",
   "id": "61375e47-9f9a-459b-876e-4f650a3c0856",
   "metadata": {},
   "source": [
    "### Solution:"
   ]
  },
  {
   "cell_type": "markdown",
   "id": "6765d0a5-91ef-4a03-a2fb-274ef83c2d11",
   "metadata": {},
   "source": [
    "- Using numpy arrays for numerical data or pandas dataframes for large datasets can be more memory-efficient.\n",
    "\n",
    "- Also, working with generators instead of lists can reduce memory consumption by yielding one item at a time instead of storing the whole sequence in memory."
   ]
  },
  {
   "cell_type": "markdown",
   "id": "5fed5363-051c-4d3a-b419-5a6b19c5d3a3",
   "metadata": {},
   "source": [
    "###  5. Large Data Sets and Memory Limitations:"
   ]
  },
  {
   "cell_type": "markdown",
   "id": "dec3a5c8-7f04-418c-86e9-34deb938d9dc",
   "metadata": {},
   "source": [
    "- When working with large data sets, such as reading large files or processing huge arrays, Python can run into memory bottlenecks because it may not automatically free up memory that is no longer needed until the garbage collector runs."
   ]
  },
  {
   "cell_type": "markdown",
   "id": "e639b718-32a8-4736-a429-0b5c0e64e313",
   "metadata": {},
   "source": [
    "### Solution:"
   ]
  },
  {
   "cell_type": "markdown",
   "id": "45e856c3-4700-474f-a075-b5a13210929f",
   "metadata": {},
   "source": [
    "- For large datasets, consider streaming data (process data in chunks) instead of loading everything into memory at once.\n",
    "\n",
    "- Using external libraries like NumPy or Dask for large data processing can optimize memory usage and improve performance."
   ]
  },
  {
   "cell_type": "markdown",
   "id": "bb6417e4-9a68-44d3-9112-45943b6f16d4",
   "metadata": {},
   "source": [
    "### 6. Managing Memory in Multi-threaded and Multi-processing Environments:"
   ]
  },
  {
   "cell_type": "markdown",
   "id": "d2ebdad0-ff2a-405b-8ec4-121723003f9b",
   "metadata": {},
   "source": [
    "- Python’s Global Interpreter Lock (GIL) in multi-threaded programs can affect how memory is managed. The GIL allows only one thread to execute at a time in a single process, which could lead to suboptimal performance in multi-threaded applications.\n",
    "\n",
    "- In multi-processing, each process has its own memory space, which can lead to increased memory usage because objects are duplicated across processes."
   ]
  },
  {
   "cell_type": "markdown",
   "id": "727da7d3-8e80-42f6-a4d9-30c972000661",
   "metadata": {},
   "source": [
    "### 7. Manual Memory Management:"
   ]
  },
  {
   "cell_type": "markdown",
   "id": "869b5317-2c03-4a19-8181-6da681a57fca",
   "metadata": {},
   "source": [
    "- While Python’s garbage collection and reference counting handle most memory management tasks, there are situations where manual memory management may be needed, especially in memory-intensive applications.\n",
    "\n",
    "- Delaying memory deallocation or maintaining a large number of objects in memory unintentionally can lead to out-of-memory errors."
   ]
  },
  {
   "cell_type": "markdown",
   "id": "17c86e16-fd33-47fe-9cf4-2992b051ebe7",
   "metadata": {},
   "source": [
    "### Solution:"
   ]
  },
  {
   "cell_type": "markdown",
   "id": "5b4fac26-4e10-4ea2-aad6-13372fa5c732",
   "metadata": {},
   "source": [
    "- Explicitly deleting objects that are no longer needed using del.\n",
    "\n",
    "- Use profiling tools like memory_profiler to monitor memory usage and optimize memory allocation."
   ]
  },
  {
   "cell_type": "markdown",
   "id": "e2535100-ab4a-4a48-8c61-dbc3bf6d7d12",
   "metadata": {},
   "source": [
    "### 8. Unused Objects Not Being Collected Promptly:"
   ]
  },
  {
   "cell_type": "markdown",
   "id": "757b4953-51fc-4be5-8b77-54ff05cb3b06",
   "metadata": {},
   "source": [
    "- Sometimes objects that are no longer used (but still in memory) are not collected immediately. This is because Python’s garbage collector only runs periodically, which can lead to higher memory consumption."
   ]
  },
  {
   "cell_type": "markdown",
   "id": "401a249e-f2d2-424e-922f-1277829bd59a",
   "metadata": {},
   "source": [
    "### Solution:"
   ]
  },
  {
   "cell_type": "markdown",
   "id": "0707a67d-4022-4948-b131-da3d39221f48",
   "metadata": {},
   "source": [
    "- Manually triggering garbage collection using the gc module if you know that the program has consumed too much memory or has many unused objects. You can do so using gc.collect()."
   ]
  },
  {
   "cell_type": "markdown",
   "id": "fd4191a9-4ab4-4190-96cc-11cac3ef4c3b",
   "metadata": {},
   "source": [
    "### Summary:"
   ]
  },
  {
   "cell_type": "markdown",
   "id": "c99daf18-44b1-4da0-b222-875dae2cd5a5",
   "metadata": {},
   "source": [
    "- While Python's memory management system is automatic and efficient, there are still several challenges:\n",
    "\n",
    "    - Memory leaks due to cyclic references,\n",
    "\n",
    "    - Fragmentation in dynamic memory allocation,\n",
    "\n",
    "    - High memory usage due to Python’s object structure,\n",
    "\n",
    "    - Memory consumption issues with large datasets,\n",
    "\n",
    "    - Manual memory management required in certain cases, especially with multi-threading or multi-processing."
   ]
  },
  {
   "cell_type": "markdown",
   "id": "c806f15b-ea31-4c19-972a-d238cdf28eb4",
   "metadata": {},
   "source": [
    "- These challenges can be addressed by using efficient data structures, leveraging libraries like NumPy or Pandas, and actively monitoring and managing memory usage, especially in large or resource-intensive applications."
   ]
  },
  {
   "cell_type": "markdown",
   "id": "9f6e03a5-8a52-492a-81e3-b188391d78db",
   "metadata": {},
   "source": [
    "# 24. How do you raise an exception manually in Python?"
   ]
  },
  {
   "cell_type": "markdown",
   "id": "b00ce1bc-3032-4403-9af3-15585657a836",
   "metadata": {},
   "source": [
    "- In Python, you can manually raise an exception using the raise keyword. This is useful when you want to intentionally stop the program or alert the user that something is wrong."
   ]
  },
  {
   "cell_type": "markdown",
   "id": "fad03b35-5b0b-494a-9fcb-ab11cc0655ed",
   "metadata": {},
   "source": [
    "### Basic Syntax:"
   ]
  },
  {
   "cell_type": "code",
   "execution_count": null,
   "id": "e07ab89c-7ff2-4861-a8ae-c59f503d0b18",
   "metadata": {},
   "outputs": [],
   "source": [
    "raise ExceptionType(\"Error message\")"
   ]
  },
  {
   "cell_type": "markdown",
   "id": "f13e5bd4-f9ba-41ea-91ef-ad8f2742ccbd",
   "metadata": {},
   "source": [
    "- ExceptionType: This is the class of the exception (e.g., ValueError, TypeError, or a custom exception).\n",
    "\n",
    "- \"Error message\": A string explaining why the exception was raised."
   ]
  },
  {
   "cell_type": "markdown",
   "id": "9f336d3d-6ba7-44da-8319-d70ae68277fa",
   "metadata": {},
   "source": [
    "### Example 1: Raise a built-in exception"
   ]
  },
  {
   "cell_type": "code",
   "execution_count": 38,
   "id": "060ff502-c6a7-46da-80bd-0731bcf3c3db",
   "metadata": {},
   "outputs": [
    {
     "ename": "ValueError",
     "evalue": "Age cannot be negative",
     "output_type": "error",
     "traceback": [
      "\u001b[1;31m---------------------------------------------------------------------------\u001b[0m",
      "\u001b[1;31mValueError\u001b[0m                                Traceback (most recent call last)",
      "Cell \u001b[1;32mIn[38], line 3\u001b[0m\n\u001b[0;32m      1\u001b[0m age \u001b[38;5;241m=\u001b[39m \u001b[38;5;241m-\u001b[39m\u001b[38;5;241m5\u001b[39m\n\u001b[0;32m      2\u001b[0m \u001b[38;5;28;01mif\u001b[39;00m age \u001b[38;5;241m<\u001b[39m \u001b[38;5;241m0\u001b[39m:\n\u001b[1;32m----> 3\u001b[0m     \u001b[38;5;28;01mraise\u001b[39;00m \u001b[38;5;167;01mValueError\u001b[39;00m(\u001b[38;5;124m\"\u001b[39m\u001b[38;5;124mAge cannot be negative\u001b[39m\u001b[38;5;124m\"\u001b[39m)\n",
      "\u001b[1;31mValueError\u001b[0m: Age cannot be negative"
     ]
    }
   ],
   "source": [
    "age = -5\n",
    "if age < 0:\n",
    "    raise ValueError(\"Age cannot be negative\")"
   ]
  },
  {
   "cell_type": "markdown",
   "id": "3ead7ef2-fb0f-4cb5-b91b-3275877208c3",
   "metadata": {},
   "source": [
    "### Example 2: Raise a custom exception"
   ]
  },
  {
   "cell_type": "code",
   "execution_count": 39,
   "id": "f92e6560-2177-4905-824e-8f1f4d33b06c",
   "metadata": {},
   "outputs": [
    {
     "ename": "MyError",
     "evalue": "This is a custom error",
     "output_type": "error",
     "traceback": [
      "\u001b[1;31m---------------------------------------------------------------------------\u001b[0m",
      "\u001b[1;31mMyError\u001b[0m                                   Traceback (most recent call last)",
      "Cell \u001b[1;32mIn[39], line 4\u001b[0m\n\u001b[0;32m      1\u001b[0m \u001b[38;5;28;01mclass\u001b[39;00m \u001b[38;5;21;01mMyError\u001b[39;00m(\u001b[38;5;167;01mException\u001b[39;00m):\n\u001b[0;32m      2\u001b[0m     \u001b[38;5;28;01mpass\u001b[39;00m\n\u001b[1;32m----> 4\u001b[0m \u001b[38;5;28;01mraise\u001b[39;00m MyError(\u001b[38;5;124m\"\u001b[39m\u001b[38;5;124mThis is a custom error\u001b[39m\u001b[38;5;124m\"\u001b[39m)\n",
      "\u001b[1;31mMyError\u001b[0m: This is a custom error"
     ]
    }
   ],
   "source": [
    "class MyError(Exception):\n",
    "    pass\n",
    "\n",
    "raise MyError(\"This is a custom error\")\n"
   ]
  },
  {
   "cell_type": "markdown",
   "id": "12ac9245-c33f-48f1-b48d-64b38205f370",
   "metadata": {},
   "source": [
    "### Example 3: Raising inside try-except"
   ]
  },
  {
   "cell_type": "code",
   "execution_count": 40,
   "id": "63e9448b-c2ae-47b6-b8dd-511d2cd87afc",
   "metadata": {},
   "outputs": [
    {
     "name": "stdout",
     "output_type": "stream",
     "text": [
      "Caught an error: Manually raised division error\n"
     ]
    }
   ],
   "source": [
    "try:\n",
    "    raise ZeroDivisionError(\"Manually raised division error\")\n",
    "except ZeroDivisionError as e:\n",
    "    print(\"Caught an error:\", e)\n"
   ]
  },
  {
   "cell_type": "markdown",
   "id": "9288b603-43d2-4203-ad75-4a9e7eafc8ce",
   "metadata": {},
   "source": [
    "### Summary:"
   ]
  },
  {
   "cell_type": "markdown",
   "id": "77615474-2439-48b4-bb3d-165cf103888c",
   "metadata": {},
   "source": [
    "- Use raise to manually trigger an exception.\n",
    "\n",
    "- Can raise built-in or custom exceptions.\n",
    "\n",
    "- Useful for input validation, debugging, or enforcing rules."
   ]
  },
  {
   "cell_type": "markdown",
   "id": "62fa1462-5ce9-43d6-8fe2-693b437d9714",
   "metadata": {},
   "source": [
    "# 25. Why is it important to use multithreading in certain applications?"
   ]
  },
  {
   "cell_type": "markdown",
   "id": "a4b945a3-9ea5-463a-a0dc-89ccb4f3fb9d",
   "metadata": {},
   "source": [
    "- Multithreading is important when you want to improve the responsiveness or efficiency of your Python program, especially in tasks that involve waiting for input/output (I/O)."
   ]
  },
  {
   "cell_type": "markdown",
   "id": "b939a347-b4e2-431c-856b-d05ca372d2b6",
   "metadata": {},
   "source": [
    "### What is Multithreading?"
   ]
  },
  {
   "cell_type": "markdown",
   "id": "dfb8cf26-7178-474c-b56d-b737a7cb59e9",
   "metadata": {},
   "source": [
    "- Multithreading allows a program to run multiple threads (smaller units of a process) concurrently, sharing the same memory space."
   ]
  },
  {
   "cell_type": "markdown",
   "id": "fe0dff5d-1b13-4e75-a18e-5f29bf8b6815",
   "metadata": {},
   "source": [
    "### Importance of Multithreading"
   ]
  },
  {
   "cell_type": "markdown",
   "id": "120bfbba-206f-4a1d-8192-408424d1fa01",
   "metadata": {},
   "source": [
    "### 1. Improves Responsiveness (especially in GUI or web apps)"
   ]
  },
  {
   "cell_type": "markdown",
   "id": "b43ccadc-2650-47ed-be34-69dbe58f5497",
   "metadata": {},
   "source": [
    "- In applications like GUI or web servers, one thread can handle the user interface, while another handles background tasks like loading data.\n",
    "\n",
    "- This keeps the program smooth and responsive, rather than freezing during long tasks."
   ]
  },
  {
   "cell_type": "markdown",
   "id": "2433b73e-2249-44e4-ad6d-a9335d163516",
   "metadata": {},
   "source": [
    "### 2.  Efficient for I/O-bound tasks"
   ]
  },
  {
   "cell_type": "markdown",
   "id": "dd49f2e5-0a87-4441-aec0-d6805ae38f11",
   "metadata": {},
   "source": [
    "- I/O-bound tasks include: reading/writing files, network requests, database queries, etc.\n",
    "\n",
    "- While the thread is waiting (e.g., for a file to read), other threads can continue doing work.\n",
    "\n",
    "- This makes the application faster overall."
   ]
  },
  {
   "cell_type": "markdown",
   "id": "5bbbdf41-8fe6-4171-89ee-b318d7caddc7",
   "metadata": {},
   "source": [
    "### 3.  Concurrent Execution"
   ]
  },
  {
   "cell_type": "markdown",
   "id": "b2085e46-c1bf-4b21-9654-b20b7f29b593",
   "metadata": {},
   "source": [
    "- Multiple threads can perform different operations at the same time, without waiting for one to finish.\n",
    "\n",
    "- Example: One thread downloads data, another processes it at the same time."
   ]
  },
  {
   "cell_type": "markdown",
   "id": "2b743098-1004-4ffa-b249-33898a63c00d",
   "metadata": {},
   "source": [
    "### 4. Better CPU Utilization for I/O-heavy programs"
   ]
  },
  {
   "cell_type": "markdown",
   "id": "88441ba9-6f7b-4aa0-ad73-b83477b841d4",
   "metadata": {},
   "source": [
    "- Although Python has a Global Interpreter Lock (GIL) which prevents true parallel execution of Python bytecode, multithreading still helps in I/O-heavy applications because the GIL is released during I/O operations."
   ]
  },
  {
   "cell_type": "markdown",
   "id": "9617825d-b3eb-4d2c-aed4-ebd742ca8491",
   "metadata": {},
   "source": [
    "### 5. Resource Sharing"
   ]
  },
  {
   "cell_type": "markdown",
   "id": "e7b27ff4-b576-483e-8dd5-3b79fd20ba9a",
   "metadata": {},
   "source": [
    "- Since threads share the same memory, it’s easy to share data between them compared to multiprocessing (which uses separate memory)."
   ]
  },
  {
   "cell_type": "markdown",
   "id": "8632aab3-4387-46d1-b503-657c61819bca",
   "metadata": {},
   "source": [
    "### Example Use Cases"
   ]
  },
  {
   "cell_type": "markdown",
   "id": "8f49fe4b-0155-40c1-9f63-30fd8920660f",
   "metadata": {},
   "source": [
    "- Downloading multiple files at the same time\n",
    "\n",
    "- A web server handling many requests\n",
    "\n",
    "- Background auto-saving in an app while user keeps working\n",
    "\n",
    "- Real-time sensor data reading and displaying on-screen"
   ]
  },
  {
   "cell_type": "markdown",
   "id": "beb5e25e-73f9-48f2-9935-fbb3c396ed8a",
   "metadata": {},
   "source": [
    "### When Not to Use Multithreading"
   ]
  },
  {
   "cell_type": "markdown",
   "id": "77af4db1-ba1c-407e-8a4c-bc271fffc631",
   "metadata": {},
   "source": [
    "- For CPU-bound tasks (like heavy calculations), multithreading isn’t helpful in Python due to the GIL. In such cases, multiprocessing is better."
   ]
  },
  {
   "cell_type": "markdown",
   "id": "ffa79481-090a-43f5-9eaf-a1232910a18b",
   "metadata": {},
   "source": [
    "### Summary"
   ]
  },
  {
   "cell_type": "code",
   "execution_count": null,
   "id": "b2ad9774-d932-43c4-9441-10a7aec1e9ed",
   "metadata": {},
   "outputs": [],
   "source": [
    "'''\n",
    "Benefit                 \tExplanation\n",
    "Keeps app responsive\t    UI or services don’t freeze during long tasks\n",
    "Efficient for I/O tasks\t    Threads don’t block each other while waiting\n",
    "Concurrent execution\t    Multiple operations can happen in parallel\n",
    "Easy data sharing\t        Threads share memory\n",
    "'''"
   ]
  },
  {
   "cell_type": "markdown",
   "id": "690e28f2-6741-4183-881a-802cf3ab12de",
   "metadata": {},
   "source": [
    "---"
   ]
  },
  {
   "cell_type": "markdown",
   "id": "9c6f6d4e-4cf3-49fe-a4a5-70be9d2aca1b",
   "metadata": {},
   "source": [
    "# Practical Questions"
   ]
  },
  {
   "cell_type": "markdown",
   "id": "f12bb6d3-312a-4d12-a3a7-8521f6088883",
   "metadata": {},
   "source": [
    "# 1. How can you open a file for writing in Python and write a string to it?"
   ]
  },
  {
   "cell_type": "markdown",
   "id": "6e5e8b14-f536-4f7c-bb3f-a315696abd2f",
   "metadata": {},
   "source": [
    "- There is two way to open a file :"
   ]
  },
  {
   "cell_type": "code",
   "execution_count": 42,
   "id": "5a1e5d48-8d77-4921-b36d-0eb39d123979",
   "metadata": {},
   "outputs": [],
   "source": [
    "# in this method we have to close the file mannually\n",
    "\n",
    "file = open(\"example.txt\",\"w\")\n",
    "file.write(\"Hello this is test message\")\n",
    "file.close()"
   ]
  },
  {
   "cell_type": "code",
   "execution_count": 44,
   "id": "2cc03b9d-5a6d-4856-8b97-31db8d3df968",
   "metadata": {},
   "outputs": [
    {
     "name": "stdout",
     "output_type": "stream",
     "text": [
      "Hello this is test message\n"
     ]
    }
   ],
   "source": [
    "file = open(\"example.txt\",\"r\")\n",
    "content = file.read()\n",
    "print(content)"
   ]
  },
  {
   "cell_type": "code",
   "execution_count": 46,
   "id": "2be2e166-be33-4dc1-90da-f97d0f2dd3c4",
   "metadata": {},
   "outputs": [
    {
     "name": "stdout",
     "output_type": "stream",
     "text": [
      "Hello This is also test message\n"
     ]
    }
   ],
   "source": [
    "# second method where you no need to close the file\n",
    "\n",
    "with open(\"example.txt\",\"w\") as file:\n",
    "    file.write(\"Hello This is also test message\")\n",
    "\n",
    "with open(\"example.txt\",\"r\") as file:\n",
    "    content = file.read()\n",
    "    print(content)"
   ]
  },
  {
   "cell_type": "markdown",
   "id": "5e1ef159-235e-43af-bbb8-a85b0af480f6",
   "metadata": {},
   "source": [
    "# 2. Write a Python program to read the contents of a file and print each line"
   ]
  },
  {
   "cell_type": "code",
   "execution_count": 47,
   "id": "284baf35-759c-4b86-8dbc-afcbb38afe3d",
   "metadata": {},
   "outputs": [
    {
     "name": "stdout",
     "output_type": "stream",
     "text": [
      "Hello This is also test message\n",
      "\n",
      "this is 2nd line\n"
     ]
    }
   ],
   "source": [
    "with open(\"example.txt\",\"r\") as file:\n",
    "    for line in file:\n",
    "        print(line.strip())"
   ]
  },
  {
   "cell_type": "markdown",
   "id": "8b007e18-e376-4868-b4bf-2257651b0dd6",
   "metadata": {},
   "source": [
    "# 3. How would you handle a case where the file doesn't exist while trying to open it for reading"
   ]
  },
  {
   "cell_type": "code",
   "execution_count": 49,
   "id": "78546c3d-0c59-4654-9ee6-18d5a98331e6",
   "metadata": {},
   "outputs": [
    {
     "name": "stdout",
     "output_type": "stream",
     "text": [
      "This file does not exist\n"
     ]
    }
   ],
   "source": [
    "try:\n",
    "    file = open(\"example1.txt\",\"r\")\n",
    "    content = file.read()\n",
    "    print(content)\n",
    "    file.close\n",
    "except FileNotFoundError:\n",
    "    print(\"This file does not exist\")"
   ]
  },
  {
   "cell_type": "markdown",
   "id": "f79410b9-a640-4d7a-b44d-8e9c97602765",
   "metadata": {},
   "source": [
    "# 4. Write a Python script that reads from one file and writes its content to another file."
   ]
  },
  {
   "cell_type": "code",
   "execution_count": 53,
   "id": "6202698d-7f08-4917-9961-fed9d16b23cc",
   "metadata": {},
   "outputs": [
    {
     "name": "stdout",
     "output_type": "stream",
     "text": [
      "Hello This is also test message\n",
      "\n",
      "this is 2nd line\n"
     ]
    }
   ],
   "source": [
    "with open(\"example.txt\",\"r\") as source_file:\n",
    "    content = source_file.read()\n",
    "\n",
    "with open(\"New_Example.txt\",\"w\") as desitantion_file:\n",
    "    desitantion_file.write(content)\n",
    "\n",
    "with open(\"New_Example.txt\",\"r\") as new_file:\n",
    "    new_content = new_file.read()\n",
    "    print(new_content)"
   ]
  },
  {
   "cell_type": "markdown",
   "id": "b0c6df91-afaa-41da-89b7-23d041992148",
   "metadata": {},
   "source": [
    "# 5. How would you catch and handle division by zero error in Python?"
   ]
  },
  {
   "cell_type": "code",
   "execution_count": 54,
   "id": "c5a2cf88-d347-406e-9b81-4f2d57d20799",
   "metadata": {},
   "outputs": [
    {
     "name": "stdout",
     "output_type": "stream",
     "text": [
      "you can't devide by zero\n"
     ]
    }
   ],
   "source": [
    "try:\n",
    "    result = 10 / 0\n",
    "except ZeroDivisionError:\n",
    "    print(\"you can't devide by zero\")\n",
    "    "
   ]
  },
  {
   "cell_type": "markdown",
   "id": "5974cbbf-d375-405b-ac1e-697b7d71cf61",
   "metadata": {},
   "source": [
    "# 6. Write a Python program that logs an error message to a log file when a division by zero exception occurs"
   ]
  },
  {
   "cell_type": "code",
   "execution_count": 55,
   "id": "7190ff4b-85b1-4d18-a15a-a317c374408a",
   "metadata": {},
   "outputs": [
    {
     "name": "stderr",
     "output_type": "stream",
     "text": [
      "ERROR:root:Attempted to divide by zero.\n"
     ]
    }
   ],
   "source": [
    "import logging\n",
    "\n",
    "logging.basicConfig(filename=\"error.log\", level=logging.ERROR, format='%(asctime)s - %(levelname)s - %(message)s')\n",
    "\n",
    "try:\n",
    "    result = 10 / 0\n",
    "except ZeroDivisionError:\n",
    "    logging.error(\"Attempted to divide by zero.\")\n"
   ]
  },
  {
   "cell_type": "markdown",
   "id": "9c94fba4-6399-4f28-a75c-588c4861fc88",
   "metadata": {},
   "source": [
    "# 7. How do you log information at different levels (INFO, ERROR, WARNING) in Python using the logging module"
   ]
  },
  {
   "cell_type": "code",
   "execution_count": 56,
   "id": "dbe340de-e29f-44eb-a98f-410ab78b357b",
   "metadata": {},
   "outputs": [
    {
     "name": "stderr",
     "output_type": "stream",
     "text": [
      "INFO:root:This is an info message.\n",
      "WARNING:root:This is a warning message.\n",
      "ERROR:root:This is an error message.\n"
     ]
    }
   ],
   "source": [
    "import logging\n",
    "\n",
    "\n",
    "logging.basicConfig(level=logging.DEBUG, format='%(levelname)s: %(message)s')\n",
    "\n",
    "\n",
    "logging.info(\"This is an info message.\")\n",
    "logging.warning(\"This is a warning message.\")\n",
    "logging.error(\"This is an error message.\")\n"
   ]
  },
  {
   "cell_type": "markdown",
   "id": "915cb25e-890f-46dc-b142-3191c8736cbb",
   "metadata": {},
   "source": [
    "# 8. Write a program to handle a file opening error using exception handling"
   ]
  },
  {
   "cell_type": "code",
   "execution_count": 57,
   "id": "eaecb525-d887-448d-b668-5cef8caad42e",
   "metadata": {},
   "outputs": [
    {
     "name": "stdout",
     "output_type": "stream",
     "text": [
      "Error: The file does not exist.\n"
     ]
    }
   ],
   "source": [
    "try:\n",
    "    file = open(\"non_existing_file.txt\", \"r\")\n",
    "    content = file.read()\n",
    "    print(content)\n",
    "    file.close()\n",
    "except FileNotFoundError:\n",
    "    print(\"Error: The file does not exist.\")\n"
   ]
  },
  {
   "cell_type": "markdown",
   "id": "fceaf746-b5eb-49b5-b858-982039146ac5",
   "metadata": {},
   "source": [
    "# 9. How can you read a file line by line and store its content in a list in Python"
   ]
  },
  {
   "cell_type": "code",
   "execution_count": 58,
   "id": "dd01e445-5b16-40dd-97d8-3f2e7fe62439",
   "metadata": {},
   "outputs": [
    {
     "name": "stdout",
     "output_type": "stream",
     "text": [
      "['Hello This is also test message\\n', '\\n', 'this is 2nd line']\n"
     ]
    }
   ],
   "source": [
    "with open(\"example.txt\", \"r\") as file:\n",
    "    lines = file.readlines()\n",
    "\n",
    "print(lines)\n"
   ]
  },
  {
   "cell_type": "markdown",
   "id": "11da38f5-c67c-482b-bbf7-c1a35eb2c485",
   "metadata": {},
   "source": [
    "# 10. How can you append data to an existing file in Python?"
   ]
  },
  {
   "cell_type": "code",
   "execution_count": 60,
   "id": "2431c5b4-adaf-4691-886e-9ecd5154587f",
   "metadata": {},
   "outputs": [
    {
     "name": "stdout",
     "output_type": "stream",
     "text": [
      "Hello This is also test message\n",
      "\n",
      "this is 2nd lineThis is the appended data.\n",
      "This is the appended data.\n",
      "\n"
     ]
    }
   ],
   "source": [
    "with open(\"example.txt\", \"a\") as file:\n",
    "    file.write(\"This is the appended data.\\n\")\n",
    "\n",
    "with open(\"example.txt\",\"r\") as file:\n",
    "    content = file.read()\n",
    "    print(content)\n"
   ]
  },
  {
   "cell_type": "markdown",
   "id": "55ed8937-7bec-4131-940f-16a93c11480f",
   "metadata": {},
   "source": [
    "# 11. Write a Python program that uses a try-except block to handle an error when attempting to access a dictionary key that doesn't exist"
   ]
  },
  {
   "cell_type": "code",
   "execution_count": 61,
   "id": "ae277646-4a92-4106-b09a-9abaca34428b",
   "metadata": {},
   "outputs": [
    {
     "name": "stdout",
     "output_type": "stream",
     "text": [
      "Error: The key does not exist in the dictionary.\n"
     ]
    }
   ],
   "source": [
    "my_dict = {\"name\": \"Alice\", \"age\": 25}\n",
    "\n",
    "try:\n",
    "    value = my_dict[\"address\"]\n",
    "except KeyError:\n",
    "    print(\"Error: The key does not exist in the dictionary.\")\n"
   ]
  },
  {
   "cell_type": "markdown",
   "id": "39811d98-4330-42c1-b4e6-aab143d2066f",
   "metadata": {},
   "source": [
    "# 12. Write a program that demonstrates using multiple except blocks to handle different types of exceptions."
   ]
  },
  {
   "cell_type": "code",
   "execution_count": 62,
   "id": "0099fe45-9777-403e-bf8b-167b00e0cfe0",
   "metadata": {},
   "outputs": [
    {
     "name": "stdin",
     "output_type": "stream",
     "text": [
      "Enter a number:  abc\n"
     ]
    },
    {
     "name": "stdout",
     "output_type": "stream",
     "text": [
      "Error: Invalid input. Please enter a valid number.\n"
     ]
    }
   ],
   "source": [
    "try:\n",
    "    num = int(input(\"Enter a number: \"))\n",
    "    result = 10 / num\n",
    "except ZeroDivisionError:\n",
    "    print(\"Error: Cannot divide by zero.\")\n",
    "except ValueError:\n",
    "    print(\"Error: Invalid input. Please enter a valid number.\")\n",
    "except Exception as e:\n",
    "    print(f\"An unexpected error occurred: {e}\")\n"
   ]
  },
  {
   "cell_type": "code",
   "execution_count": 64,
   "id": "923c9354-bac2-4744-8a20-97c2a102ae65",
   "metadata": {},
   "outputs": [
    {
     "name": "stdin",
     "output_type": "stream",
     "text": [
      "Enter a number:  0\n"
     ]
    },
    {
     "name": "stdout",
     "output_type": "stream",
     "text": [
      "Error: Cannot divide by zero.\n"
     ]
    }
   ],
   "source": [
    "try:\n",
    "    num = int(input(\"Enter a number: \"))\n",
    "    result = 10 / num\n",
    "except ZeroDivisionError:\n",
    "    print(\"Error: Cannot divide by zero.\")\n",
    "except ValueError:\n",
    "    print(\"Error: Invalid input. Please enter a valid number.\")\n",
    "except Exception as e:\n",
    "    print(f\"An unexpected error occurred: {e}\")\n"
   ]
  },
  {
   "cell_type": "markdown",
   "id": "af732acb-771c-48ef-bc73-63d495880b38",
   "metadata": {},
   "source": [
    "# 13. How would you check if a file exists before attempting to read it in Python."
   ]
  },
  {
   "cell_type": "code",
   "execution_count": 65,
   "id": "eaf82623-571f-4867-bcbd-b5fd730f96fc",
   "metadata": {},
   "outputs": [
    {
     "name": "stdout",
     "output_type": "stream",
     "text": [
      "Hello This is also test message\n",
      "\n",
      "this is 2nd lineThis is the appended data.\n",
      "This is the appended data.\n",
      "\n"
     ]
    }
   ],
   "source": [
    "import os\n",
    "\n",
    "file_path = \"example.txt\"\n",
    "\n",
    "if os.path.exists(file_path):\n",
    "    with open(file_path, \"r\") as file:\n",
    "        content = file.read()\n",
    "        print(content)\n",
    "else:\n",
    "    print(\"The file does not exist.\")\n"
   ]
  },
  {
   "cell_type": "code",
   "execution_count": 66,
   "id": "0e287e73-f1d6-4c70-b4f1-a1039af593ee",
   "metadata": {},
   "outputs": [
    {
     "name": "stdout",
     "output_type": "stream",
     "text": [
      "The file does not exist.\n"
     ]
    }
   ],
   "source": [
    "import os\n",
    "\n",
    "file_path = \"examplevk.txt\"\n",
    "\n",
    "if os.path.exists(file_path):\n",
    "    with open(file_path, \"r\") as file:\n",
    "        content = file.read()\n",
    "        print(content)\n",
    "else:\n",
    "    print(\"The file does not exist.\")\n"
   ]
  },
  {
   "cell_type": "markdown",
   "id": "c6bae5ba-b08e-4b72-bc11-fae2be39cdeb",
   "metadata": {},
   "source": [
    "# 14. Write a program that uses the logging module to log both informational and error messages"
   ]
  },
  {
   "cell_type": "code",
   "execution_count": 67,
   "id": "3c0024a1-b555-461f-aeae-c8c487d1fb30",
   "metadata": {},
   "outputs": [
    {
     "name": "stderr",
     "output_type": "stream",
     "text": [
      "INFO:root:This is an informational message.\n",
      "ERROR:root:Error: Attempted to divide by zero.\n"
     ]
    }
   ],
   "source": [
    "import logging\n",
    "\n",
    "logging.basicConfig(level=logging.DEBUG, format='%(asctime)s - %(levelname)s - %(message)s', filename='app.log')\n",
    "\n",
    "\n",
    "logging.info(\"This is an informational message.\")\n",
    "\n",
    "\n",
    "try:\n",
    "    result = 10 / 0\n",
    "except ZeroDivisionError:\n",
    "    logging.error(\"Error: Attempted to divide by zero.\")\n"
   ]
  },
  {
   "cell_type": "markdown",
   "id": "e6c4ebb0-c39f-4e0c-818b-7c53174ad6be",
   "metadata": {},
   "source": [
    "# 15. Write a Python program that prints the content of a file and handles the case when the file is empty."
   ]
  },
  {
   "cell_type": "code",
   "execution_count": 68,
   "id": "6e3dca0a-d7f8-4ba3-ad76-fe28db94adb8",
   "metadata": {},
   "outputs": [
    {
     "name": "stdout",
     "output_type": "stream",
     "text": [
      "Hello This is also test message\n",
      "\n",
      "this is 2nd lineThis is the appended data.\n",
      "This is the appended data.\n",
      "\n"
     ]
    }
   ],
   "source": [
    "try:\n",
    "    with open(\"example.txt\", \"r\") as file:\n",
    "        content = file.read()\n",
    "        if content:\n",
    "            print(content)\n",
    "        else:\n",
    "            print(\"The file is empty.\")\n",
    "except FileNotFoundError:\n",
    "    print(\"The file does not exist.\")\n"
   ]
  },
  {
   "cell_type": "code",
   "execution_count": 69,
   "id": "d4cdf507-7ff8-46f9-ab86-e6ac029fdc59",
   "metadata": {},
   "outputs": [
    {
     "name": "stdout",
     "output_type": "stream",
     "text": [
      "The file is empty.\n"
     ]
    }
   ],
   "source": [
    "with open(\"example.txt\",\"w\") as file:\n",
    "    file.write(\"\")\n",
    "try:\n",
    "    with open(\"example.txt\", \"r\") as file:\n",
    "        content = file.read()\n",
    "        if content:\n",
    "            print(content)\n",
    "        else:\n",
    "            print(\"The file is empty.\")\n",
    "except FileNotFoundError:\n",
    "    print(\"The file does not exist.\")"
   ]
  },
  {
   "cell_type": "markdown",
   "id": "14b8b577-2f44-4710-8dfc-31bddcd94f4c",
   "metadata": {},
   "source": [
    "# 16.  Demonstrate how to use memory profiling to check the memory usage of a small program."
   ]
  },
  {
   "cell_type": "code",
   "execution_count": 6,
   "id": "75a878ed-6c9c-4d19-b75e-879b0955f0a2",
   "metadata": {},
   "outputs": [
    {
     "name": "stdout",
     "output_type": "stream",
     "text": [
      "(403698, 422317)\n"
     ]
    }
   ],
   "source": [
    "import tracemalloc\n",
    "tracemalloc.start()\n",
    "a = [i for i in range(10000)]\n",
    "print(tracemalloc.get_traced_memory())\n",
    "tracemalloc.stop()"
   ]
  },
  {
   "cell_type": "markdown",
   "id": "f3e5277b-a375-4aff-9dfa-6b2f6593e99b",
   "metadata": {},
   "source": [
    "# 17. Write a Python program to create and write a list of numbers to a file, one number per line"
   ]
  },
  {
   "cell_type": "code",
   "execution_count": 5,
   "id": "aaf72203-a1e9-42be-93db-0cdb2ea71ccb",
   "metadata": {},
   "outputs": [
    {
     "name": "stdout",
     "output_type": "stream",
     "text": [
      "Numbers have been written to the file.\n",
      "1\n",
      "2\n",
      "3\n",
      "4\n",
      "5\n",
      "6\n",
      "7\n",
      "8\n",
      "9\n",
      "10\n",
      "\n"
     ]
    }
   ],
   "source": [
    "numbers = [1, 2, 3, 4, 5, 6, 7, 8, 9, 10]\n",
    "\n",
    "# Open the file in write mode\n",
    "with open(\"numbers.txt\", \"w\") as file:\n",
    "    for number in numbers:\n",
    "        file.write(f\"{number}\\n\")  # Write each number on a new line\n",
    "\n",
    "print(\"Numbers have been written to the file.\")\n",
    "\n",
    "with open(\"numbers.txt\",\"r\") as file:\n",
    "    content = file.read()\n",
    "    print(content)"
   ]
  },
  {
   "cell_type": "markdown",
   "id": "bf94ec95-329e-42ef-8b68-629060742029",
   "metadata": {},
   "source": [
    "# 18. How would you implement a basic logging setup that logs to a file with rotation after 1MB?"
   ]
  },
  {
   "cell_type": "code",
   "execution_count": 8,
   "id": "f9fe8089-e05e-43ee-9b61-a2cb548f7bc4",
   "metadata": {},
   "outputs": [],
   "source": [
    "import logging\n",
    "from logging.handlers import RotatingFileHandler\n",
    "\n",
    "\n",
    "handler = RotatingFileHandler('app.log', maxBytes=1*1024*1024, backupCount=3)\n",
    "logger = logging.getLogger()\n",
    "logger.setLevel(logging.DEBUG)\n",
    "logger.addHandler(handler)\n",
    "\n",
    "\n",
    "logger.debug(\"This is a debug message.\")\n",
    "logger.info(\"This is an info message.\")\n",
    "logger.warning(\"This is a warning message.\")\n",
    "logger.error(\"This is an error message.\")\n",
    "logger.critical(\"This is a critical message.\")\n"
   ]
  },
  {
   "cell_type": "markdown",
   "id": "7b17f554-ba58-449e-b686-413c27ca7d64",
   "metadata": {},
   "source": [
    "# 19. Write a program that handles both IndexError and KeyError using a try-except block"
   ]
  },
  {
   "cell_type": "code",
   "execution_count": 9,
   "id": "f64d8373-1b50-4f80-b12c-2a793eba31e6",
   "metadata": {},
   "outputs": [
    {
     "name": "stdout",
     "output_type": "stream",
     "text": [
      "IndexError: List index is out of range.\n"
     ]
    }
   ],
   "source": [
    "try:\n",
    "    my_list = [1, 2, 3]\n",
    "    my_dict = {\"a\": 10, \"b\": 20}\n",
    "\n",
    "    print(my_list[5])       \n",
    "    print(my_dict[\"z\"])     \n",
    "\n",
    "except IndexError:\n",
    "    print(\"IndexError: List index is out of range.\")\n",
    "except KeyError:\n",
    "    print(\"KeyError: The specified key does not exist in the dictionary.\")\n"
   ]
  },
  {
   "cell_type": "markdown",
   "id": "3b00610d-1e4d-46e3-9c62-a31e4f734a53",
   "metadata": {},
   "source": [
    "# 20. How would you open a file and read its contents using a context manager in Python?"
   ]
  },
  {
   "cell_type": "code",
   "execution_count": 12,
   "id": "8910fc85-a429-47f7-877b-fa61c58a6e47",
   "metadata": {},
   "outputs": [
    {
     "name": "stdout",
     "output_type": "stream",
     "text": [
      "Hello this is test message\n"
     ]
    }
   ],
   "source": [
    "with open(\"example.txt\", \"r\") as file:\n",
    "    content = file.read()\n",
    "    print(content)\n"
   ]
  },
  {
   "cell_type": "markdown",
   "id": "a5d85939-7f23-46f3-98fe-01ed603f191f",
   "metadata": {},
   "source": [
    "# 21. Write a Python program that reads a file and prints the number of occurrences of a specific word"
   ]
  },
  {
   "cell_type": "code",
   "execution_count": 13,
   "id": "a360e352-3875-419a-9eac-dad289176ca1",
   "metadata": {},
   "outputs": [
    {
     "name": "stdout",
     "output_type": "stream",
     "text": [
      "The word 'hello' occurs 1 times in the file.\n"
     ]
    }
   ],
   "source": [
    "\n",
    "word_to_find = \"hello\"\n",
    "\n",
    "with open(\"example.txt\", \"r\") as file:\n",
    "    content = file.read()\n",
    "\n",
    "\n",
    "count = content.lower().count(word_to_find.lower())\n",
    "\n",
    "\n",
    "print(f\"The word '{word_to_find}' occurs {count} times in the file.\")\n"
   ]
  },
  {
   "cell_type": "markdown",
   "id": "531f9c9c-8607-4274-85da-3add8cfd2889",
   "metadata": {},
   "source": [
    "# 22. How can you check if a file is empty before attempting to read its contents?"
   ]
  },
  {
   "cell_type": "code",
   "execution_count": 14,
   "id": "a04d1f69-ba72-4fb0-b8da-f56fc72277ef",
   "metadata": {},
   "outputs": [
    {
     "name": "stdout",
     "output_type": "stream",
     "text": [
      "File content:\n",
      "Hello this is test message\n"
     ]
    }
   ],
   "source": [
    "import os\n",
    "\n",
    "file_path = \"example.txt\"\n",
    "\n",
    "if os.path.getsize(file_path) == 0:\n",
    "    print(\"The file is empty.\")\n",
    "else:\n",
    "    with open(file_path, \"r\") as file:\n",
    "        content = file.read()\n",
    "        print(\"File content:\")\n",
    "        print(content)\n"
   ]
  },
  {
   "cell_type": "markdown",
   "id": "0bc6a556-44b9-41a7-aa65-5102241e9e31",
   "metadata": {},
   "source": [
    "# 23. Write a Python program that writes to a log file when an error occurs during file handling."
   ]
  },
  {
   "cell_type": "code",
   "execution_count": 15,
   "id": "9f9943e8-fbdf-4350-adbf-defbbbccd838",
   "metadata": {},
   "outputs": [
    {
     "name": "stdout",
     "output_type": "stream",
     "text": [
      "An error occurred. Check the log file for details.\n"
     ]
    }
   ],
   "source": [
    "import logging\n",
    "\n",
    "\n",
    "logging.basicConfig(filename='file_error.log', level=logging.ERROR)\n",
    "\n",
    "try:\n",
    "\n",
    "    with open(\"non_existing_file.txt\", \"r\") as file:\n",
    "        content = file.read()\n",
    "except FileNotFoundError as e:\n",
    "\n",
    "    logging.error(f\"File not found error: {e}\")\n",
    "    print(\"An error occurred. Check the log file for details.\")\n"
   ]
  }
 ],
 "metadata": {
  "kernelspec": {
   "display_name": "Python 3 (ipykernel)",
   "language": "python",
   "name": "python3"
  },
  "language_info": {
   "codemirror_mode": {
    "name": "ipython",
    "version": 3
   },
   "file_extension": ".py",
   "mimetype": "text/x-python",
   "name": "python",
   "nbconvert_exporter": "python",
   "pygments_lexer": "ipython3",
   "version": "3.12.7"
  }
 },
 "nbformat": 4,
 "nbformat_minor": 5
}
